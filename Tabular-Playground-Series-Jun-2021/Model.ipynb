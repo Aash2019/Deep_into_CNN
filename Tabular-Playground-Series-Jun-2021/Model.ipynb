{
 "cells": [
  {
   "cell_type": "code",
   "execution_count": 1,
   "id": "juvenile-voice",
   "metadata": {
    "_cell_guid": "b1076dfc-b9ad-4769-8c92-a6c4dae69d19",
    "_uuid": "8f2839f25d086af736a60e9eeb907d3b93b6e0e5",
    "execution": {
     "iopub.execute_input": "2021-06-13T13:12:23.703135Z",
     "iopub.status.busy": "2021-06-13T13:12:23.702570Z",
     "iopub.status.idle": "2021-06-13T13:12:35.602739Z",
     "shell.execute_reply": "2021-06-13T13:12:35.603153Z",
     "shell.execute_reply.started": "2021-06-13T12:43:17.143074Z"
    },
    "papermill": {
     "duration": 11.937161,
     "end_time": "2021-06-13T13:12:35.603424",
     "exception": false,
     "start_time": "2021-06-13T13:12:23.666263",
     "status": "completed"
    },
    "tags": []
   },
   "outputs": [
    {
     "name": "stdout",
     "output_type": "stream",
     "text": [
      "/kaggle/input/tabular-playground-series-jun-2021/sample_submission.csv\n",
      "/kaggle/input/tabular-playground-series-jun-2021/train.csv\n",
      "/kaggle/input/tabular-playground-series-jun-2021/test.csv\n"
     ]
    }
   ],
   "source": [
    "!pip install torchviz -q\n",
    "import numpy as np\n",
    "import pandas as pd\n",
    "import seaborn as sns\n",
    "import matplotlib.pyplot as plt\n",
    "\n",
    "from sklearn.preprocessing import LabelEncoder\n",
    "from sklearn.model_selection import train_test_split\n",
    "from sklearn.preprocessing import MinMaxScaler  \n",
    "\n",
    "# Pytorch modules\n",
    "import torch\n",
    "import torch.nn as nn\n",
    "import torch.optim as optim\n",
    "from torch.utils.data import Dataset, DataLoader\n",
    "import torch.nn.functional as F\n",
    "\n",
    "import os\n",
    "for dirname, _, filenames in os.walk('/kaggle/input'):\n",
    "    for filename in filenames:\n",
    "        print(os.path.join(dirname, filename))\n",
    "\n",
    "\n",
    "from tqdm.notebook import tqdm"
   ]
  },
  {
   "cell_type": "code",
   "execution_count": 2,
   "id": "functional-current",
   "metadata": {
    "execution": {
     "iopub.execute_input": "2021-06-13T13:12:35.651989Z",
     "iopub.status.busy": "2021-06-13T13:12:35.651458Z",
     "iopub.status.idle": "2021-06-13T13:12:35.654755Z",
     "shell.execute_reply": "2021-06-13T13:12:35.655112Z",
     "shell.execute_reply.started": "2021-06-13T12:43:45.051239Z"
    },
    "papermill": {
     "duration": 0.028768,
     "end_time": "2021-06-13T13:12:35.655239",
     "exception": false,
     "start_time": "2021-06-13T13:12:35.626471",
     "status": "completed"
    },
    "tags": []
   },
   "outputs": [],
   "source": [
    "import random\n",
    "random.seed(0)"
   ]
  },
  {
   "cell_type": "code",
   "execution_count": 3,
   "id": "returning-avatar",
   "metadata": {
    "execution": {
     "iopub.execute_input": "2021-06-13T13:12:35.715147Z",
     "iopub.status.busy": "2021-06-13T13:12:35.714647Z",
     "iopub.status.idle": "2021-06-13T13:12:37.290267Z",
     "shell.execute_reply": "2021-06-13T13:12:37.289773Z",
     "shell.execute_reply.started": "2021-06-13T12:44:04.222481Z"
    },
    "papermill": {
     "duration": 1.604427,
     "end_time": "2021-06-13T13:12:37.290398",
     "exception": false,
     "start_time": "2021-06-13T13:12:35.685971",
     "status": "completed"
    },
    "tags": []
   },
   "outputs": [],
   "source": [
    "train = pd.read_csv(\"/kaggle/input/tabular-playground-series-jun-2021/train.csv\", index_col = 'id')\n",
    "test = pd.read_csv(\"/kaggle/input/tabular-playground-series-jun-2021/test.csv\", index_col = 'id')\n",
    "TARGET = 'target'\n",
    "RANDOM_STATE = 42"
   ]
  },
  {
   "cell_type": "code",
   "execution_count": 4,
   "id": "brown-warehouse",
   "metadata": {
    "execution": {
     "iopub.execute_input": "2021-06-13T13:12:37.376056Z",
     "iopub.status.busy": "2021-06-13T13:12:37.375128Z",
     "iopub.status.idle": "2021-06-13T13:12:37.633158Z",
     "shell.execute_reply": "2021-06-13T13:12:37.633554Z",
     "shell.execute_reply.started": "2021-06-13T12:44:08.173071Z"
    },
    "papermill": {
     "duration": 0.320887,
     "end_time": "2021-06-13T13:12:37.633717",
     "exception": false,
     "start_time": "2021-06-13T13:12:37.312830",
     "status": "completed"
    },
    "tags": []
   },
   "outputs": [
    {
     "data": {
      "text/plain": [
       "(199776, 76)"
      ]
     },
     "execution_count": 4,
     "metadata": {},
     "output_type": "execute_result"
    }
   ],
   "source": [
    "train = train[~train.drop('target', axis = 1).duplicated()]\n",
    "train.shape"
   ]
  },
  {
   "cell_type": "code",
   "execution_count": 5,
   "id": "formed-matthew",
   "metadata": {
    "execution": {
     "iopub.execute_input": "2021-06-13T13:12:37.746825Z",
     "iopub.status.busy": "2021-06-13T13:12:37.741788Z",
     "iopub.status.idle": "2021-06-13T13:12:37.785549Z",
     "shell.execute_reply": "2021-06-13T13:12:37.785113Z",
     "shell.execute_reply.started": "2021-06-13T12:44:10.932054Z"
    },
    "papermill": {
     "duration": 0.128974,
     "end_time": "2021-06-13T13:12:37.785697",
     "exception": false,
     "start_time": "2021-06-13T13:12:37.656723",
     "status": "completed"
    },
    "tags": []
   },
   "outputs": [],
   "source": [
    "X = pd.DataFrame(train.drop(\"target\", axis = 1))\n",
    "\n",
    "lencoder = LabelEncoder()\n",
    "y = pd.DataFrame(lencoder.fit_transform(train['target']), columns=['target'])"
   ]
  },
  {
   "cell_type": "code",
   "execution_count": 6,
   "id": "south-criminal",
   "metadata": {
    "execution": {
     "iopub.execute_input": "2021-06-13T13:12:37.877844Z",
     "iopub.status.busy": "2021-06-13T13:12:37.852226Z",
     "iopub.status.idle": "2021-06-13T13:12:39.398426Z",
     "shell.execute_reply": "2021-06-13T13:12:39.399005Z",
     "shell.execute_reply.started": "2021-06-13T12:44:15.178086Z"
    },
    "papermill": {
     "duration": 1.590007,
     "end_time": "2021-06-13T13:12:39.399173",
     "exception": false,
     "start_time": "2021-06-13T13:12:37.809166",
     "status": "completed"
    },
    "tags": []
   },
   "outputs": [
    {
     "data": {
      "text/plain": [
       "<AxesSubplot:xlabel='target', ylabel='count'>"
      ]
     },
     "execution_count": 6,
     "metadata": {},
     "output_type": "execute_result"
    },
    {
     "data": {
      "image/png": "[encoded data removed]",
      "text/plain": [
       "<Figure size 432x288 with 1 Axes>"
      ]
     },
     "metadata": {
      "needs_background": "light"
     },
     "output_type": "display_data"
    }
   ],
   "source": [
    "X_train, X_valid, y_train, y_valid = train_test_split(X, y, test_size=0.2, stratify=y, random_state= RANDOM_STATE)\n",
    "\n",
    "sns.countplot(x = TARGET, data= y)"
   ]
  },
  {
   "cell_type": "code",
   "execution_count": 7,
   "id": "pediatric-music",
   "metadata": {
    "execution": {
     "iopub.execute_input": "2021-06-13T13:12:39.452724Z",
     "iopub.status.busy": "2021-06-13T13:12:39.451737Z",
     "iopub.status.idle": "2021-06-13T13:12:39.576291Z",
     "shell.execute_reply": "2021-06-13T13:12:39.575804Z",
     "shell.execute_reply.started": "2021-06-13T12:44:24.567681Z"
    },
    "papermill": {
     "duration": 0.153592,
     "end_time": "2021-06-13T13:12:39.576423",
     "exception": false,
     "start_time": "2021-06-13T13:12:39.422831",
     "status": "completed"
    },
    "tags": []
   },
   "outputs": [],
   "source": [
    "# NN likes numbers from 0-1 .... so we scale our dataset \n",
    "scaler = MinMaxScaler()\n",
    "\n",
    "X_train = scaler.fit_transform(X_train)\n",
    "X_valid = scaler.transform(X_valid)"
   ]
  },
  {
   "cell_type": "code",
   "execution_count": 8,
   "id": "satisfactory-genome",
   "metadata": {
    "execution": {
     "iopub.execute_input": "2021-06-13T13:12:39.632949Z",
     "iopub.status.busy": "2021-06-13T13:12:39.631802Z",
     "iopub.status.idle": "2021-06-13T13:12:39.657078Z",
     "shell.execute_reply": "2021-06-13T13:12:39.657516Z",
     "shell.execute_reply.started": "2021-06-13T12:44:26.520100Z"
    },
    "papermill": {
     "duration": 0.055594,
     "end_time": "2021-06-13T13:12:39.657686",
     "exception": false,
     "start_time": "2021-06-13T13:12:39.602092",
     "status": "completed"
    },
    "tags": []
   },
   "outputs": [],
   "source": [
    "X_train, y_train = np.array(X_train, dtype= np.float32), y_train['target'].values \n",
    "X_valid, y_valid = np.array(X_valid, dtype= np.float32), y_valid['target'].values"
   ]
  },
  {
   "cell_type": "code",
   "execution_count": 9,
   "id": "practical-arbitration",
   "metadata": {
    "execution": {
     "iopub.execute_input": "2021-06-13T13:12:39.710402Z",
     "iopub.status.busy": "2021-06-13T13:12:39.709555Z",
     "iopub.status.idle": "2021-06-13T13:12:39.715496Z",
     "shell.execute_reply": "2021-06-13T13:12:39.715943Z",
     "shell.execute_reply.started": "2021-06-13T12:44:28.941038Z"
    },
    "papermill": {
     "duration": 0.034694,
     "end_time": "2021-06-13T13:12:39.716089",
     "exception": false,
     "start_time": "2021-06-13T13:12:39.681395",
     "status": "completed"
    },
    "tags": []
   },
   "outputs": [
    {
     "data": {
      "text/plain": [
       "array([[0.        , 0.        , 0.        , ..., 0.        , 0.        ,\n",
       "        0.        ],\n",
       "       [0.        , 0.03921569, 0.        , ..., 0.04918033, 0.06153846,\n",
       "        0.        ],\n",
       "       [0.        , 0.01960784, 0.03125   , ..., 0.09836066, 0.        ,\n",
       "        0.        ],\n",
       "       ...,\n",
       "       [0.        , 0.        , 0.        , ..., 0.03278688, 0.        ,\n",
       "        0.        ],\n",
       "       [0.        , 0.01960784, 0.        , ..., 0.01639344, 0.50769234,\n",
       "        0.        ],\n",
       "       [0.        , 0.01960784, 0.125     , ..., 0.        , 0.        ,\n",
       "        0.01923077]], dtype=float32)"
      ]
     },
     "metadata": {},
     "output_type": "display_data"
    },
    {
     "data": {
      "text/plain": [
       "array([[0.        , 0.        , 0.        , ..., 0.        , 0.        ,\n",
       "        0.        ],\n",
       "       [0.        , 0.15686275, 0.        , ..., 0.01639344, 0.        ,\n",
       "        0.        ],\n",
       "       [0.        , 0.        , 0.015625  , ..., 0.        , 0.00769231,\n",
       "        0.        ],\n",
       "       ...,\n",
       "       [0.        , 0.        , 0.        , ..., 0.        , 0.00769231,\n",
       "        0.        ],\n",
       "       [0.        , 0.        , 0.        , ..., 0.        , 0.        ,\n",
       "        0.        ],\n",
       "       [0.        , 0.01960784, 0.        , ..., 0.01639344, 0.05384615,\n",
       "        0.03846154]], dtype=float32)"
      ]
     },
     "metadata": {},
     "output_type": "display_data"
    }
   ],
   "source": [
    "display(X_train)\n",
    "display(X_valid)"
   ]
  },
  {
   "cell_type": "code",
   "execution_count": 10,
   "id": "historical-geneva",
   "metadata": {
    "execution": {
     "iopub.execute_input": "2021-06-13T13:12:39.769536Z",
     "iopub.status.busy": "2021-06-13T13:12:39.768389Z",
     "iopub.status.idle": "2021-06-13T13:12:39.771060Z",
     "shell.execute_reply": "2021-06-13T13:12:39.770651Z",
     "shell.execute_reply.started": "2021-06-13T12:44:32.565296Z"
    },
    "papermill": {
     "duration": 0.029951,
     "end_time": "2021-06-13T13:12:39.771159",
     "exception": false,
     "start_time": "2021-06-13T13:12:39.741208",
     "status": "completed"
    },
    "tags": []
   },
   "outputs": [],
   "source": [
    "# Here we will define all params for rest of notebook\n",
    "\n",
    "BATCH_SIZE = 128\n",
    "NUM_FEATURES = len(train.columns)-1\n",
    "NUM_CLASSES = 9\n",
    "NUM_EPOCHS = 100"
   ]
  },
  {
   "cell_type": "code",
   "execution_count": 11,
   "id": "executed-reality",
   "metadata": {
    "execution": {
     "iopub.execute_input": "2021-06-13T13:12:39.869856Z",
     "iopub.status.busy": "2021-06-13T13:12:39.869234Z",
     "iopub.status.idle": "2021-06-13T13:12:39.872088Z",
     "shell.execute_reply": "2021-06-13T13:12:39.872615Z",
     "shell.execute_reply.started": "2021-06-13T12:44:34.660085Z"
    },
    "papermill": {
     "duration": 0.077679,
     "end_time": "2021-06-13T13:12:39.872742",
     "exception": false,
     "start_time": "2021-06-13T13:12:39.795063",
     "status": "completed"
    },
    "tags": []
   },
   "outputs": [
    {
     "name": "stdout",
     "output_type": "stream",
     "text": [
      "cuda:0\n"
     ]
    }
   ],
   "source": [
    "device = torch.device(\"cuda:0\" if torch.cuda.is_available() else \"cpu\")\n",
    "print(device)"
   ]
  },
  {
   "cell_type": "code",
   "execution_count": 12,
   "id": "defensive-minutes",
   "metadata": {
    "execution": {
     "iopub.execute_input": "2021-06-13T13:12:39.932988Z",
     "iopub.status.busy": "2021-06-13T13:12:39.932256Z",
     "iopub.status.idle": "2021-06-13T13:12:39.935714Z",
     "shell.execute_reply": "2021-06-13T13:12:39.935281Z",
     "shell.execute_reply.started": "2021-06-13T12:44:36.491062Z"
    },
    "papermill": {
     "duration": 0.038981,
     "end_time": "2021-06-13T13:12:39.935823",
     "exception": false,
     "start_time": "2021-06-13T13:12:39.896842",
     "status": "completed"
    },
    "tags": []
   },
   "outputs": [],
   "source": [
    "# Here we will define all params for rest of notebook\n",
    "\n",
    "class TPS05Dataset(Dataset):\n",
    "    \n",
    "    def __init__(self, X_data, y_data):\n",
    "        self.X_data = X_data\n",
    "        self.y_data = y_data\n",
    "        \n",
    "    def __getitem__(self, index):\n",
    "        return self.X_data[index], self.y_data[index]\n",
    "        \n",
    "    def __len__ (self):\n",
    "        return len(self.X_data)\n",
    "\n",
    "# As you can see we define torch arrays - then we will put them into device\n",
    "train_dataset = TPS05Dataset(torch.from_numpy(X_train).float(), torch.from_numpy(y_train).long())\n",
    "valid_dataset = TPS05Dataset(torch.from_numpy(X_valid).float(), torch.from_numpy(y_valid).long())"
   ]
  },
  {
   "cell_type": "code",
   "execution_count": 13,
   "id": "sacred-skating",
   "metadata": {
    "execution": {
     "iopub.execute_input": "2021-06-13T13:12:39.987912Z",
     "iopub.status.busy": "2021-06-13T13:12:39.987400Z",
     "iopub.status.idle": "2021-06-13T13:12:39.991139Z",
     "shell.execute_reply": "2021-06-13T13:12:39.990736Z",
     "shell.execute_reply.started": "2021-06-13T12:44:39.366196Z"
    },
    "papermill": {
     "duration": 0.031086,
     "end_time": "2021-06-13T13:12:39.991241",
     "exception": false,
     "start_time": "2021-06-13T13:12:39.960155",
     "status": "completed"
    },
    "tags": []
   },
   "outputs": [],
   "source": [
    "# Data loaders \n",
    "train_loader = DataLoader(dataset=train_dataset,\n",
    "                          batch_size=BATCH_SIZE)\n",
    "\n",
    "valid_loader = DataLoader(dataset=valid_dataset, batch_size=1)"
   ]
  },
  {
   "cell_type": "code",
   "execution_count": 14,
   "id": "other-genealogy",
   "metadata": {
    "execution": {
     "iopub.execute_input": "2021-06-13T13:12:40.046986Z",
     "iopub.status.busy": "2021-06-13T13:12:40.046404Z",
     "iopub.status.idle": "2021-06-13T13:12:40.113748Z",
     "shell.execute_reply": "2021-06-13T13:12:40.114138Z",
     "shell.execute_reply.started": "2021-06-13T12:44:42.496310Z"
    },
    "papermill": {
     "duration": 0.098817,
     "end_time": "2021-06-13T13:12:40.114255",
     "exception": false,
     "start_time": "2021-06-13T13:12:40.015438",
     "status": "completed"
    },
    "tags": []
   },
   "outputs": [
    {
     "name": "stdout",
     "output_type": "stream",
     "text": [
      "Batch #1\n",
      "Feature batch shape: torch.Size([128, 75])\n",
      "Labels batch shape: torch.Size([128])\n",
      "First row from batch #1\n",
      "tensor([0.0000, 0.0392, 0.0000, 0.0143, 0.0000, 0.0921, 0.0930, 0.0000, 0.0263,\n",
      "        0.0139, 0.7879, 0.0000, 0.0270, 0.0000, 0.0625, 0.0000, 0.1481, 0.0000,\n",
      "        0.0455, 0.3042, 0.0333, 0.0000, 0.0000, 0.0455, 0.0725, 0.0000, 0.0000,\n",
      "        0.0119, 0.0000, 0.0000, 0.0000, 0.0513, 0.1282, 0.0732, 0.0278, 0.0000,\n",
      "        0.0000, 0.0294, 0.0000, 0.1837, 0.0123, 0.0000, 0.0189, 0.2698, 0.0370,\n",
      "        0.0333, 0.0000, 0.0000, 0.0000, 0.0000, 0.0714, 0.0000, 0.0000, 0.0000,\n",
      "        0.0192, 0.0000, 0.1087, 0.0000, 0.0000, 0.0000, 0.0346, 0.0125, 0.0588,\n",
      "        0.0125, 0.0400, 0.0000, 0.1667, 0.0633, 0.0182, 0.0000, 0.0149, 0.0000,\n",
      "        0.0492, 0.0615, 0.0000])\n",
      "\n",
      "Batch #2\n",
      "Feature batch shape: torch.Size([128, 75])\n",
      "Labels batch shape: torch.Size([128])\n",
      "First row from batch #2\n",
      "tensor([0.0000, 0.0000, 0.0938, 0.0857, 0.0000, 0.0000, 0.0000, 0.0000, 0.0000,\n",
      "        0.0000, 0.0000, 0.0000, 0.0000, 0.0465, 0.0000, 0.0000, 0.0000, 0.0000,\n",
      "        0.0455, 0.0076, 0.0333, 0.1212, 0.0000, 0.0000, 0.0000, 0.0000, 0.0417,\n",
      "        0.0000, 0.0000, 0.0238, 0.0000, 0.0000, 0.0000, 0.0244, 0.0000, 0.0000,\n",
      "        0.0476, 0.0000, 0.6585, 0.0000, 0.0000, 0.0000, 0.0000, 0.0159, 0.0000,\n",
      "        0.0000, 0.0000, 0.0000, 0.0250, 0.0000, 0.0714, 0.0685, 0.0000, 0.0000,\n",
      "        0.0096, 0.0000, 0.0000, 0.0000, 0.0000, 0.0000, 0.0000, 0.0125, 0.0392,\n",
      "        0.0250, 0.0000, 0.0000, 0.0833, 0.0253, 0.0364, 0.0000, 0.0000, 0.0000,\n",
      "        0.0000, 0.0000, 0.0000])\n"
     ]
    }
   ],
   "source": [
    "dataiter = iter(train_loader)\n",
    "train_features, train_labels = dataiter.next()\n",
    "print('Batch #1')\n",
    "print(f\"Feature batch shape: {train_features.size()}\")\n",
    "print(f\"Labels batch shape: {train_labels.size()}\")\n",
    "print(\"First row from batch #1\")\n",
    "print(train_features[1])\n",
    "\n",
    "# take next batch (another way)\n",
    "train_features, train_labels = dataiter.next()\n",
    "print('\\nBatch #2')\n",
    "print(f\"Feature batch shape: {train_features.size()}\")\n",
    "print(f\"Labels batch shape: {train_labels.size()}\")\n",
    "print(\"First row from batch #2\")\n",
    "print(train_features[1])"
   ]
  },
  {
   "cell_type": "code",
   "execution_count": 15,
   "id": "competitive-welsh",
   "metadata": {
    "execution": {
     "iopub.execute_input": "2021-06-13T13:12:40.172515Z",
     "iopub.status.busy": "2021-06-13T13:12:40.172036Z",
     "iopub.status.idle": "2021-06-13T13:12:40.175774Z",
     "shell.execute_reply": "2021-06-13T13:12:40.175356Z",
     "shell.execute_reply.started": "2021-06-13T12:44:46.733136Z"
    },
    "papermill": {
     "duration": 0.037043,
     "end_time": "2021-06-13T13:12:40.175881",
     "exception": false,
     "start_time": "2021-06-13T13:12:40.138838",
     "status": "completed"
    },
    "tags": []
   },
   "outputs": [],
   "source": [
    "class TPS05ClassificationModule(nn.Module):\n",
    "    def __init__(self, num_feature, num_class):\n",
    "        super(TPS05ClassificationModule, self).__init__()\n",
    "        \n",
    "        self.layer_1 = nn.Linear(num_feature, 256)\n",
    "        self.layer_2 = nn.Linear(256, 128)\n",
    "        self.layer_3 = nn.Linear(128, 64)\n",
    "        self.layer_4 = nn.Linear(64, 32)\n",
    "        self.layer_out = nn.Linear(32, num_class)\n",
    "        \n",
    "        self.dropout_1 = nn.Dropout(p=0.3)\n",
    "        self.dropout_2 = nn.Dropout(p=0.2)\n",
    "        \n",
    "        self.batchnorm_1 = nn.BatchNorm1d(128)\n",
    "        self.batchnorm_2 = nn.BatchNorm1d(64)\n",
    "        self.batchnorm_3 = nn.BatchNorm1d(32) \n",
    "        \n",
    "        self.relu = nn.ReLU()\n",
    "        self.softmax = nn.Softmax(dim = 1)\n",
    "    \n",
    "    def forward(self, x):\n",
    "        x = self.layer_1(x)        \n",
    "        x = F.relu(x)   # Second one using torch.nn.functional\n",
    "        x = self.dropout_1(x)\n",
    "        \n",
    "        x = self.layer_2(x)\n",
    "        x = self.relu(x)\n",
    "        x = self.batchnorm_1(x)\n",
    "        x = self.dropout_1(x)\n",
    "        \n",
    "        x = self.layer_3(x)\n",
    "        x = self.batchnorm_2(x)\n",
    "        x = self.relu(x)\n",
    "        x = self.dropout_1(x)\n",
    "        \n",
    "        x = self.layer_4(x)\n",
    "        x = self.batchnorm_3(x) \n",
    "        x = self.softmax(x)        \n",
    "        x = self.dropout_1(x)\n",
    "        \n",
    "        x = self.layer_out(x)   \n",
    "\n",
    "        \n",
    "        return x\n",
    "    "
   ]
  },
  {
   "cell_type": "code",
   "execution_count": 16,
   "id": "inappropriate-scheme",
   "metadata": {
    "execution": {
     "iopub.execute_input": "2021-06-13T13:12:40.228861Z",
     "iopub.status.busy": "2021-06-13T13:12:40.228337Z",
     "iopub.status.idle": "2021-06-13T13:12:40.240806Z",
     "shell.execute_reply": "2021-06-13T13:12:40.240167Z",
     "shell.execute_reply.started": "2021-06-13T12:44:49.745699Z"
    },
    "papermill": {
     "duration": 0.04026,
     "end_time": "2021-06-13T13:12:40.240940",
     "exception": false,
     "start_time": "2021-06-13T13:12:40.200680",
     "status": "completed"
    },
    "tags": []
   },
   "outputs": [
    {
     "name": "stdout",
     "output_type": "stream",
     "text": [
      "TPS05ClassificationModule(\n",
      "  (layer_1): Linear(in_features=75, out_features=256, bias=True)\n",
      "  (layer_2): Linear(in_features=256, out_features=128, bias=True)\n",
      "  (layer_3): Linear(in_features=128, out_features=64, bias=True)\n",
      "  (layer_4): Linear(in_features=64, out_features=32, bias=True)\n",
      "  (layer_out): Linear(in_features=32, out_features=9, bias=True)\n",
      "  (dropout_1): Dropout(p=0.3, inplace=False)\n",
      "  (dropout_2): Dropout(p=0.2, inplace=False)\n",
      "  (batchnorm_1): BatchNorm1d(128, eps=1e-05, momentum=0.1, affine=True, track_running_stats=True)\n",
      "  (batchnorm_2): BatchNorm1d(64, eps=1e-05, momentum=0.1, affine=True, track_running_stats=True)\n",
      "  (batchnorm_3): BatchNorm1d(32, eps=1e-05, momentum=0.1, affine=True, track_running_stats=True)\n",
      "  (relu): ReLU()\n",
      "  (softmax): Softmax(dim=1)\n",
      ")\n"
     ]
    }
   ],
   "source": [
    "modelMod = TPS05ClassificationModule(num_feature = NUM_FEATURES, num_class=NUM_CLASSES)\n",
    "# Then pushi it to device (CPU/GPU)\n",
    "\n",
    "# model.eval() is switch off for some specific layers/parts of the model (Dropouts Layers, BatchNorm Layers etc.) \n",
    "modelMod.eval()\n",
    "\n",
    "# Whenever you want you can print model \n",
    "print(modelMod)"
   ]
  },
  {
   "cell_type": "code",
   "execution_count": 17,
   "id": "satisfied-delivery",
   "metadata": {
    "execution": {
     "iopub.execute_input": "2021-06-13T13:12:40.294137Z",
     "iopub.status.busy": "2021-06-13T13:12:40.293646Z",
     "iopub.status.idle": "2021-06-13T13:12:40.297372Z",
     "shell.execute_reply": "2021-06-13T13:12:40.296968Z",
     "shell.execute_reply.started": "2021-06-13T12:44:52.721653Z"
    },
    "papermill": {
     "duration": 0.031418,
     "end_time": "2021-06-13T13:12:40.297467",
     "exception": false,
     "start_time": "2021-06-13T13:12:40.266049",
     "status": "completed"
    },
    "tags": []
   },
   "outputs": [],
   "source": [
    "criterion = nn.CrossEntropyLoss()"
   ]
  },
  {
   "cell_type": "code",
   "execution_count": 18,
   "id": "heard-burton",
   "metadata": {
    "execution": {
     "iopub.execute_input": "2021-06-13T13:12:40.350873Z",
     "iopub.status.busy": "2021-06-13T13:12:40.349657Z",
     "iopub.status.idle": "2021-06-13T13:12:40.351870Z",
     "shell.execute_reply": "2021-06-13T13:12:40.352293Z",
     "shell.execute_reply.started": "2021-06-13T12:44:56.120907Z"
    },
    "papermill": {
     "duration": 0.030364,
     "end_time": "2021-06-13T13:12:40.352403",
     "exception": false,
     "start_time": "2021-06-13T13:12:40.322039",
     "status": "completed"
    },
    "tags": []
   },
   "outputs": [],
   "source": [
    "model = modelMod"
   ]
  },
  {
   "cell_type": "code",
   "execution_count": 19,
   "id": "streaming-marketing",
   "metadata": {
    "execution": {
     "iopub.execute_input": "2021-06-13T13:12:40.405697Z",
     "iopub.status.busy": "2021-06-13T13:12:40.405174Z",
     "iopub.status.idle": "2021-06-13T13:12:40.408428Z",
     "shell.execute_reply": "2021-06-13T13:12:40.408839Z",
     "shell.execute_reply.started": "2021-06-13T12:44:57.864039Z"
    },
    "papermill": {
     "duration": 0.032137,
     "end_time": "2021-06-13T13:12:40.408960",
     "exception": false,
     "start_time": "2021-06-13T13:12:40.376823",
     "status": "completed"
    },
    "tags": []
   },
   "outputs": [],
   "source": [
    "Learning_Rate = 0.001\n",
    "optimizer = optim.Adam(model.parameters(),lr=Learning_Rate)\n",
    "from torch.optim.lr_scheduler import ReduceLROnPlateau\n",
    "scheduler = ReduceLROnPlateau(optimizer,'min',factor = 0.5,patience = 2,cooldown = 0,verbose = 1)"
   ]
  },
  {
   "cell_type": "code",
   "execution_count": 20,
   "id": "ready-memory",
   "metadata": {
    "execution": {
     "iopub.execute_input": "2021-06-13T13:12:40.464542Z",
     "iopub.status.busy": "2021-06-13T13:12:40.464054Z",
     "iopub.status.idle": "2021-06-13T13:12:40.467725Z",
     "shell.execute_reply": "2021-06-13T13:12:40.467296Z",
     "shell.execute_reply.started": "2021-06-13T12:44:59.965645Z"
    },
    "papermill": {
     "duration": 0.0343,
     "end_time": "2021-06-13T13:12:40.467822",
     "exception": false,
     "start_time": "2021-06-13T13:12:40.433522",
     "status": "completed"
    },
    "tags": []
   },
   "outputs": [],
   "source": [
    "class EarlyStoppingCallback:   \n",
    "    def __init__(self, min_delta = 0.0000001, patience = 20,restore_best_weights=True):\n",
    "        \n",
    "        self.min_delta = min_delta\n",
    "        self.patience = patience\n",
    "        self.restore_best_weights = True\n",
    "        self.best_epoch_score = 0\n",
    "        \n",
    "        self.attempt = 0\n",
    "        self.best_score = None\n",
    "        self.stop_training = False\n",
    "        \n",
    "        \n",
    "    def __call__(self, validation_loss):\n",
    "\n",
    "        self.epoch_score = validation_loss\n",
    "\n",
    "        if self.best_epoch_score == 0:\n",
    "            self.best_epoch_score = self.epoch_score\n",
    "        elif self.epoch_score > self.best_epoch_score - self.min_delta:\n",
    "            self.attempt += 1\n",
    "            print(f'Message from callback (Early Stopping) counter: {self.attempt}/{self.patience}')\n",
    "            if self.attempt >= self.patience:\n",
    "                self.stop_training = True\n",
    "        else:\n",
    "            self.best_epoch_score = self.epoch_score\n",
    "            self.attempt = 0"
   ]
  },
  {
   "cell_type": "code",
   "execution_count": 21,
   "id": "ongoing-kitty",
   "metadata": {
    "execution": {
     "iopub.execute_input": "2021-06-13T13:12:40.522453Z",
     "iopub.status.busy": "2021-06-13T13:12:40.521975Z",
     "iopub.status.idle": "2021-06-13T13:12:40.525536Z",
     "shell.execute_reply": "2021-06-13T13:12:40.525148Z",
     "shell.execute_reply.started": "2021-06-13T12:45:03.111136Z"
    },
    "papermill": {
     "duration": 0.032987,
     "end_time": "2021-06-13T13:12:40.525652",
     "exception": false,
     "start_time": "2021-06-13T13:12:40.492665",
     "status": "completed"
    },
    "tags": []
   },
   "outputs": [],
   "source": [
    "accuracy_stat = {'train': [],\"validation\": []}\n",
    "loss_stat = {'train': [], \"validation\": [] }\n",
    "\n",
    "def acc_calc(y_pred, y_test):\n",
    "    y_pred_softmax = torch.log_softmax(y_pred, dim = 1)\n",
    "    _, y_pred_tags = torch.max(y_pred_softmax, dim = 1)    \n",
    "    \n",
    "    correct_pred = (y_pred_tags == y_test).float()\n",
    "    acc = correct_pred.sum() / len(correct_pred)\n",
    "    \n",
    "    acc = torch.round(acc * 100)\n",
    "    \n",
    "    return acc"
   ]
  },
  {
   "cell_type": "code",
   "execution_count": 22,
   "id": "indonesian-brooklyn",
   "metadata": {
    "execution": {
     "iopub.execute_input": "2021-06-13T13:12:40.584451Z",
     "iopub.status.busy": "2021-06-13T13:12:40.583923Z",
     "iopub.status.idle": "2021-06-13T13:12:40.586324Z",
     "shell.execute_reply": "2021-06-13T13:12:40.586692Z",
     "shell.execute_reply.started": "2021-06-13T12:45:05.937079Z"
    },
    "papermill": {
     "duration": 0.036527,
     "end_time": "2021-06-13T13:12:40.586807",
     "exception": false,
     "start_time": "2021-06-13T13:12:40.550280",
     "status": "completed"
    },
    "tags": []
   },
   "outputs": [],
   "source": [
    "def train_nn():\n",
    "    for progress in tqdm(range(1, NUM_EPOCHS+1)):\n",
    "\n",
    "        train_epoch_loss = 0\n",
    "        train_epoch_acc = 0\n",
    "\n",
    "        model.train()\n",
    "\n",
    "        # We loop over training dataset using batches (we use DataLoader to load data with batches)\n",
    "        for X_train_batch, y_train_batch in train_loader:\n",
    "            \n",
    "\n",
    "            # Clear gradients\n",
    "            optimizer.zero_grad()\n",
    "\n",
    "            # Forward pass ->>>>\n",
    "            y_train_pred = model(X_train_batch)\n",
    "\n",
    "            # Find Loss and backpropagation of gradients\n",
    "            train_loss = criterion(y_train_pred, y_train_batch)\n",
    "            train_acc = acc_calc(y_train_pred, y_train_batch)\n",
    "\n",
    "            # backward <------    \n",
    "            train_loss.backward()\n",
    "\n",
    "            # Update the parameters (weights and biases)\n",
    "            optimizer.step()\n",
    "\n",
    "            train_epoch_loss += train_loss.item()\n",
    "            train_epoch_acc += train_acc.item()\n",
    "\n",
    "\n",
    "        #  Then we validate our model - concept is the same\n",
    "        with torch.no_grad():\n",
    "\n",
    "            val_epoch_loss = 0\n",
    "            val_epoch_acc = 0\n",
    "\n",
    "            model.eval()\n",
    "            for X_val_batch, y_val_batch in valid_loader:\n",
    "               \n",
    "\n",
    "                y_val_pred = model(X_val_batch)\n",
    "\n",
    "                val_loss = criterion(y_val_pred, y_val_batch)\n",
    "                val_acc = acc_calc(y_val_pred, y_val_batch)\n",
    "\n",
    "                val_epoch_loss += val_loss.item()\n",
    "                val_epoch_acc += val_acc.item()\n",
    "\n",
    "        # end of validation loop\n",
    "        early_stopping_callback(val_epoch_loss/len(valid_loader))\n",
    "        if early_stopping_callback.stop_training:\n",
    "            print(f'Training stopped -> Early Stopping Callback : validation_loss: {val_epoch_loss/len(valid_loader)}')\n",
    "            break\n",
    "\n",
    "        loss_stat['train'].append(train_epoch_loss/len(train_loader))\n",
    "        loss_stat['validation'].append(val_epoch_loss/len(valid_loader))\n",
    "        accuracy_stat['train'].append(train_epoch_acc/len(train_loader))\n",
    "        accuracy_stat['validation'].append(val_epoch_acc/len(valid_loader))                           \n",
    "        \n",
    "        \n",
    "        # 2021.05.17 \n",
    "        # This is a part of NN optimization\n",
    "        clr = optimizer.param_groups[0]['lr']        \n",
    "        scheduler.step(val_epoch_acc/len(valid_loader))\n",
    "\n",
    "        print(f'Epoch { progress + 0:03}: Loss: [Train: {train_epoch_loss/len(train_loader):.5f} | Validation: {val_epoch_loss/len(valid_loader):.5f} ] Accuracy: [Train: {train_epoch_acc/len(train_loader):.3f} | Validation: {val_epoch_acc/len(valid_loader):.3f}] LR: {clr}')"
   ]
  },
  {
   "cell_type": "code",
   "execution_count": 23,
   "id": "ignored-movie",
   "metadata": {
    "execution": {
     "iopub.execute_input": "2021-06-13T13:12:40.639412Z",
     "iopub.status.busy": "2021-06-13T13:12:40.638928Z",
     "iopub.status.idle": "2021-06-13T13:29:47.132203Z",
     "shell.execute_reply": "2021-06-13T13:29:47.132834Z",
     "shell.execute_reply.started": "2021-06-13T12:45:08.399236Z"
    },
    "papermill": {
     "duration": 1026.521599,
     "end_time": "2021-06-13T13:29:47.133048",
     "exception": false,
     "start_time": "2021-06-13T13:12:40.611449",
     "status": "completed"
    },
    "tags": []
   },
   "outputs": [
    {
     "data": {
      "application/vnd.jupyter.widget-view+json": {
       "model_id": "8a4bca04c6fa4d4090a182c37b2190fd",
       "version_major": 2,
       "version_minor": 0
      },
      "text/plain": [
       "  0%|          | 0/100 [00:00<?, ?it/s]"
      ]
     },
     "metadata": {},
     "output_type": "display_data"
    },
    {
     "name": "stdout",
     "output_type": "stream",
     "text": [
      "Epoch 001: Loss: [Train: 1.88707 | Validation: 1.80102 ] Accuracy: [Train: 31.673 | Validation: 34.751] LR: 0.001\n",
      "Epoch 002: Loss: [Train: 1.80491 | Validation: 1.78086 ] Accuracy: [Train: 34.223 | Validation: 35.356] LR: 0.001\n",
      "Epoch 003: Loss: [Train: 1.79246 | Validation: 1.77483 ] Accuracy: [Train: 34.614 | Validation: 35.284] LR: 0.001\n",
      "Epoch     4: reducing learning rate of group 0 to 5.0000e-04.\n",
      "Epoch 004: Loss: [Train: 1.78526 | Validation: 1.77130 ] Accuracy: [Train: 34.885 | Validation: 35.324] LR: 0.001\n",
      "Epoch 005: Loss: [Train: 1.77826 | Validation: 1.76780 ] Accuracy: [Train: 35.195 | Validation: 35.477] LR: 0.0005\n",
      "Epoch 006: Loss: [Train: 1.77524 | Validation: 1.76682 ] Accuracy: [Train: 35.377 | Validation: 35.499] LR: 0.0005\n",
      "Epoch     7: reducing learning rate of group 0 to 2.5000e-04.\n",
      "Epoch 007: Loss: [Train: 1.77266 | Validation: 1.76624 ] Accuracy: [Train: 35.460 | Validation: 35.489] LR: 0.0005\n",
      "Epoch 008: Loss: [Train: 1.76839 | Validation: 1.76511 ] Accuracy: [Train: 35.710 | Validation: 35.537] LR: 0.00025\n",
      "Epoch 009: Loss: [Train: 1.76718 | Validation: 1.76508 ] Accuracy: [Train: 35.816 | Validation: 35.469] LR: 0.00025\n",
      "Message from callback (Early Stopping) counter: 1/20\n",
      "Epoch    10: reducing learning rate of group 0 to 1.2500e-04.\n",
      "Epoch 010: Loss: [Train: 1.76494 | Validation: 1.76537 ] Accuracy: [Train: 35.890 | Validation: 35.532] LR: 0.00025\n",
      "Epoch 011: Loss: [Train: 1.76217 | Validation: 1.76471 ] Accuracy: [Train: 36.042 | Validation: 35.569] LR: 0.000125\n",
      "Message from callback (Early Stopping) counter: 1/20\n",
      "Epoch 012: Loss: [Train: 1.76094 | Validation: 1.76500 ] Accuracy: [Train: 36.101 | Validation: 35.537] LR: 0.000125\n",
      "Message from callback (Early Stopping) counter: 2/20\n",
      "Epoch    13: reducing learning rate of group 0 to 6.2500e-05.\n",
      "Epoch 013: Loss: [Train: 1.76107 | Validation: 1.76520 ] Accuracy: [Train: 36.225 | Validation: 35.449] LR: 0.000125\n",
      "Message from callback (Early Stopping) counter: 3/20\n",
      "Epoch 014: Loss: [Train: 1.76002 | Validation: 1.76477 ] Accuracy: [Train: 36.168 | Validation: 35.532] LR: 6.25e-05\n",
      "Epoch 015: Loss: [Train: 1.75904 | Validation: 1.76471 ] Accuracy: [Train: 36.256 | Validation: 35.589] LR: 6.25e-05\n",
      "Message from callback (Early Stopping) counter: 1/20\n",
      "Epoch    16: reducing learning rate of group 0 to 3.1250e-05.\n",
      "Epoch 016: Loss: [Train: 1.75736 | Validation: 1.76483 ] Accuracy: [Train: 36.373 | Validation: 35.499] LR: 6.25e-05\n",
      "Message from callback (Early Stopping) counter: 2/20\n",
      "Epoch 017: Loss: [Train: 1.75771 | Validation: 1.76482 ] Accuracy: [Train: 36.287 | Validation: 35.444] LR: 3.125e-05\n",
      "Message from callback (Early Stopping) counter: 3/20\n",
      "Epoch 018: Loss: [Train: 1.75750 | Validation: 1.76479 ] Accuracy: [Train: 36.231 | Validation: 35.544] LR: 3.125e-05\n",
      "Message from callback (Early Stopping) counter: 4/20\n",
      "Epoch    19: reducing learning rate of group 0 to 1.5625e-05.\n",
      "Epoch 019: Loss: [Train: 1.75717 | Validation: 1.76498 ] Accuracy: [Train: 36.364 | Validation: 35.557] LR: 3.125e-05\n",
      "Message from callback (Early Stopping) counter: 5/20\n",
      "Epoch 020: Loss: [Train: 1.75720 | Validation: 1.76491 ] Accuracy: [Train: 36.351 | Validation: 35.574] LR: 1.5625e-05\n",
      "Message from callback (Early Stopping) counter: 6/20\n",
      "Epoch 021: Loss: [Train: 1.75641 | Validation: 1.76498 ] Accuracy: [Train: 36.383 | Validation: 35.502] LR: 1.5625e-05\n",
      "Message from callback (Early Stopping) counter: 7/20\n",
      "Epoch    22: reducing learning rate of group 0 to 7.8125e-06.\n",
      "Epoch 022: Loss: [Train: 1.75597 | Validation: 1.76484 ] Accuracy: [Train: 36.411 | Validation: 35.459] LR: 1.5625e-05\n",
      "Message from callback (Early Stopping) counter: 8/20\n",
      "Epoch 023: Loss: [Train: 1.75533 | Validation: 1.76493 ] Accuracy: [Train: 36.481 | Validation: 35.489] LR: 7.8125e-06\n",
      "Message from callback (Early Stopping) counter: 9/20\n",
      "Epoch 024: Loss: [Train: 1.75652 | Validation: 1.76483 ] Accuracy: [Train: 36.370 | Validation: 35.487] LR: 7.8125e-06\n",
      "Message from callback (Early Stopping) counter: 10/20\n",
      "Epoch    25: reducing learning rate of group 0 to 3.9063e-06.\n",
      "Epoch 025: Loss: [Train: 1.75591 | Validation: 1.76491 ] Accuracy: [Train: 36.385 | Validation: 35.464] LR: 7.8125e-06\n",
      "Message from callback (Early Stopping) counter: 11/20\n",
      "Epoch 026: Loss: [Train: 1.75589 | Validation: 1.76491 ] Accuracy: [Train: 36.358 | Validation: 35.497] LR: 3.90625e-06\n",
      "Message from callback (Early Stopping) counter: 12/20\n",
      "Epoch 027: Loss: [Train: 1.75685 | Validation: 1.76488 ] Accuracy: [Train: 36.311 | Validation: 35.469] LR: 3.90625e-06\n",
      "Message from callback (Early Stopping) counter: 13/20\n",
      "Epoch    28: reducing learning rate of group 0 to 1.9531e-06.\n",
      "Epoch 028: Loss: [Train: 1.75572 | Validation: 1.76492 ] Accuracy: [Train: 36.563 | Validation: 35.416] LR: 3.90625e-06\n",
      "Message from callback (Early Stopping) counter: 14/20\n",
      "Epoch 029: Loss: [Train: 1.75590 | Validation: 1.76492 ] Accuracy: [Train: 36.486 | Validation: 35.502] LR: 1.953125e-06\n",
      "Message from callback (Early Stopping) counter: 15/20\n",
      "Epoch 030: Loss: [Train: 1.75540 | Validation: 1.76492 ] Accuracy: [Train: 36.412 | Validation: 35.479] LR: 1.953125e-06\n",
      "Message from callback (Early Stopping) counter: 16/20\n",
      "Epoch    31: reducing learning rate of group 0 to 9.7656e-07.\n",
      "Epoch 031: Loss: [Train: 1.75619 | Validation: 1.76504 ] Accuracy: [Train: 36.403 | Validation: 35.529] LR: 1.953125e-06\n",
      "Message from callback (Early Stopping) counter: 17/20\n",
      "Epoch 032: Loss: [Train: 1.75567 | Validation: 1.76489 ] Accuracy: [Train: 36.429 | Validation: 35.457] LR: 9.765625e-07\n",
      "Message from callback (Early Stopping) counter: 18/20\n",
      "Epoch 033: Loss: [Train: 1.75677 | Validation: 1.76496 ] Accuracy: [Train: 36.363 | Validation: 35.559] LR: 9.765625e-07\n",
      "Message from callback (Early Stopping) counter: 19/20\n",
      "Epoch    34: reducing learning rate of group 0 to 4.8828e-07.\n",
      "Epoch 034: Loss: [Train: 1.75670 | Validation: 1.76489 ] Accuracy: [Train: 36.511 | Validation: 35.512] LR: 9.765625e-07\n",
      "Message from callback (Early Stopping) counter: 20/20\n",
      "Training stopped -> Early Stopping Callback : validation_loss: 1.7649132828129812\n"
     ]
    }
   ],
   "source": [
    "early_stopping_callback = EarlyStoppingCallback(0.0000001, 20)\n",
    "\n",
    "train_nn()"
   ]
  },
  {
   "cell_type": "code",
   "execution_count": 24,
   "id": "residential-survivor",
   "metadata": {
    "execution": {
     "iopub.execute_input": "2021-06-13T13:29:47.216448Z",
     "iopub.status.busy": "2021-06-13T13:29:47.209665Z",
     "iopub.status.idle": "2021-06-13T13:29:47.218815Z",
     "shell.execute_reply": "2021-06-13T13:29:47.218409Z",
     "shell.execute_reply.started": "2021-06-13T13:10:34.418863Z"
    },
    "papermill": {
     "duration": 0.050015,
     "end_time": "2021-06-13T13:29:47.218929",
     "exception": false,
     "start_time": "2021-06-13T13:29:47.168914",
     "status": "completed"
    },
    "tags": []
   },
   "outputs": [],
   "source": [
    "df_train_va = pd.DataFrame.from_dict(accuracy_stat).reset_index().melt(id_vars=['index']).rename(columns={\"index\":\"epochs\"})\n",
    "df_train_vl = pd.DataFrame.from_dict(loss_stat).reset_index().melt(id_vars=['index']).rename(columns={\"index\":\"epochs\"})"
   ]
  },
  {
   "cell_type": "code",
   "execution_count": 25,
   "id": "lucky-strike",
   "metadata": {
    "execution": {
     "iopub.execute_input": "2021-06-13T13:29:47.340385Z",
     "iopub.status.busy": "2021-06-13T13:29:47.327162Z",
     "iopub.status.idle": "2021-06-13T13:29:47.644307Z",
     "shell.execute_reply": "2021-06-13T13:29:47.643480Z",
     "shell.execute_reply.started": "2021-06-13T13:10:43.427796Z"
    },
    "papermill": {
     "duration": 0.391655,
     "end_time": "2021-06-13T13:29:47.644445",
     "exception": false,
     "start_time": "2021-06-13T13:29:47.252790",
     "status": "completed"
    },
    "tags": []
   },
   "outputs": [
    {
     "data": {
      "text/plain": [
       "Text(0.5, 1.0, 'Train - Validation Loss/Epoch')"
      ]
     },
     "execution_count": 25,
     "metadata": {},
     "output_type": "execute_result"
    },
    {
     "data": {
      "image/png": "[encoded data removed]",
      "text/plain": [
       "<Figure size 1440x504 with 2 Axes>"
      ]
     },
     "metadata": {
      "needs_background": "light"
     },
     "output_type": "display_data"
    }
   ],
   "source": [
    "fig, axes = plt.subplots(nrows=1, ncols=2, figsize=(20,7))\n",
    "\n",
    "sns.lineplot(data = df_train_va, x = \"epochs\", y=\"value\", hue=\"variable\",  ax=axes[0]).set_title('Train - Validation Accuracy/Epoch')\n",
    "sns.lineplot(data = df_train_vl, x = \"epochs\", y=\"value\", hue=\"variable\", ax=axes[1]).set_title('Train - Validation Loss/Epoch')"
   ]
  },
  {
   "cell_type": "code",
   "execution_count": 26,
   "id": "orange-tracy",
   "metadata": {
    "execution": {
     "iopub.execute_input": "2021-06-13T13:29:47.722202Z",
     "iopub.status.busy": "2021-06-13T13:29:47.721193Z",
     "iopub.status.idle": "2021-06-13T13:29:48.159203Z",
     "shell.execute_reply": "2021-06-13T13:29:48.159629Z",
     "shell.execute_reply.started": "2021-06-13T13:10:47.802848Z"
    },
    "papermill": {
     "duration": 0.479556,
     "end_time": "2021-06-13T13:29:48.159782",
     "exception": false,
     "start_time": "2021-06-13T13:29:47.680226",
     "status": "completed"
    },
    "tags": []
   },
   "outputs": [
    {
     "data": {
      "text/plain": [
       "tensor([-0.3530,  1.4694,  0.5805, -1.1340, -1.8081,  0.3773, -1.0785, -0.2959,\n",
       "         0.4081], grad_fn=<SelectBackward>)"
      ]
     },
     "execution_count": 26,
     "metadata": {},
     "output_type": "execute_result"
    }
   ],
   "source": [
    "tensor_preds = model(torch.from_numpy(scaler.transform(test)).float())\n",
    "tensor_preds[0]"
   ]
  },
  {
   "cell_type": "code",
   "execution_count": 27,
   "id": "adopted-investigator",
   "metadata": {
    "execution": {
     "iopub.execute_input": "2021-06-13T13:29:48.235960Z",
     "iopub.status.busy": "2021-06-13T13:29:48.235305Z",
     "iopub.status.idle": "2021-06-13T13:29:48.257031Z",
     "shell.execute_reply": "2021-06-13T13:29:48.256529Z",
     "shell.execute_reply.started": "2021-06-13T13:10:50.912544Z"
    },
    "papermill": {
     "duration": 0.061229,
     "end_time": "2021-06-13T13:29:48.257132",
     "exception": false,
     "start_time": "2021-06-13T13:29:48.195903",
     "status": "completed"
    },
    "tags": []
   },
   "outputs": [
    {
     "data": {
      "text/plain": [
       "array([0.06180502, 0.38234693, 0.15718967, 0.02830217, 0.01442316,\n",
       "       0.12828737, 0.02991777, 0.06543312, 0.1322949 ], dtype=float32)"
      ]
     },
     "execution_count": 27,
     "metadata": {},
     "output_type": "execute_result"
    }
   ],
   "source": [
    "nn_preds = torch.nn.functional.softmax(tensor_preds, dim=1).detach().numpy() \n",
    "nn_preds[0]"
   ]
  },
  {
   "cell_type": "code",
   "execution_count": 28,
   "id": "resistant-equipment",
   "metadata": {
    "execution": {
     "iopub.execute_input": "2021-06-13T13:29:48.336297Z",
     "iopub.status.busy": "2021-06-13T13:29:48.335788Z",
     "iopub.status.idle": "2021-06-13T13:29:48.489694Z",
     "shell.execute_reply": "2021-06-13T13:29:48.489152Z",
     "shell.execute_reply.started": "2021-06-13T13:10:53.481244Z"
    },
    "papermill": {
     "duration": 0.196129,
     "end_time": "2021-06-13T13:29:48.489836",
     "exception": false,
     "start_time": "2021-06-13T13:29:48.293707",
     "status": "completed"
    },
    "tags": []
   },
   "outputs": [],
   "source": [
    "sub = pd.read_csv(\"/kaggle/input/tabular-playground-series-jun-2021/sample_submission.csv\")\n",
    "predictions_df = pd.DataFrame(nn_preds, columns = [\"Class_1\", \"Class_2\", \"Class_3\",\"Class_4\",\"Class_5\",\"Class_6\",\"Class_7\",\"Class_8\",\"Class_9\"])\n",
    "predictions_df['id'] = sub['id']"
   ]
  },
  {
   "cell_type": "code",
   "execution_count": 29,
   "id": "understood-texas",
   "metadata": {
    "execution": {
     "iopub.execute_input": "2021-06-13T13:29:48.570415Z",
     "iopub.status.busy": "2021-06-13T13:29:48.569928Z",
     "iopub.status.idle": "2021-06-13T13:29:48.580973Z",
     "shell.execute_reply": "2021-06-13T13:29:48.580240Z",
     "shell.execute_reply.started": "2021-06-13T13:10:55.602114Z"
    },
    "papermill": {
     "duration": 0.05478,
     "end_time": "2021-06-13T13:29:48.581080",
     "exception": false,
     "start_time": "2021-06-13T13:29:48.526300",
     "status": "completed"
    },
    "tags": []
   },
   "outputs": [
    {
     "data": {
      "text/html": [
       "<div>\n",
       "<style scoped>\n",
       "    .dataframe tbody tr th:only-of-type {\n",
       "        vertical-align: middle;\n",
       "    }\n",
       "\n",
       "    .dataframe tbody tr th {\n",
       "        vertical-align: top;\n",
       "    }\n",
       "\n",
       "    .dataframe thead th {\n",
       "        text-align: right;\n",
       "    }\n",
       "</style>\n",
       "<table border=\"1\" class=\"dataframe\">\n",
       "  <thead>\n",
       "    <tr style=\"text-align: right;\">\n",
       "      <th></th>\n",
       "      <th>Class_1</th>\n",
       "      <th>Class_2</th>\n",
       "      <th>Class_3</th>\n",
       "      <th>Class_4</th>\n",
       "      <th>Class_5</th>\n",
       "      <th>Class_6</th>\n",
       "      <th>Class_7</th>\n",
       "      <th>Class_8</th>\n",
       "      <th>Class_9</th>\n",
       "      <th>id</th>\n",
       "    </tr>\n",
       "  </thead>\n",
       "  <tbody>\n",
       "    <tr>\n",
       "      <th>0</th>\n",
       "      <td>0.061805</td>\n",
       "      <td>0.382347</td>\n",
       "      <td>0.157190</td>\n",
       "      <td>0.028302</td>\n",
       "      <td>0.014423</td>\n",
       "      <td>0.128287</td>\n",
       "      <td>0.029918</td>\n",
       "      <td>0.065433</td>\n",
       "      <td>0.132295</td>\n",
       "      <td>200000</td>\n",
       "    </tr>\n",
       "    <tr>\n",
       "      <th>1</th>\n",
       "      <td>0.047472</td>\n",
       "      <td>0.066258</td>\n",
       "      <td>0.052751</td>\n",
       "      <td>0.023224</td>\n",
       "      <td>0.016457</td>\n",
       "      <td>0.245400</td>\n",
       "      <td>0.091056</td>\n",
       "      <td>0.327116</td>\n",
       "      <td>0.130265</td>\n",
       "      <td>200001</td>\n",
       "    </tr>\n",
       "    <tr>\n",
       "      <th>2</th>\n",
       "      <td>0.022788</td>\n",
       "      <td>0.028629</td>\n",
       "      <td>0.022327</td>\n",
       "      <td>0.010592</td>\n",
       "      <td>0.007482</td>\n",
       "      <td>0.638704</td>\n",
       "      <td>0.040559</td>\n",
       "      <td>0.171579</td>\n",
       "      <td>0.057342</td>\n",
       "      <td>200002</td>\n",
       "    </tr>\n",
       "    <tr>\n",
       "      <th>3</th>\n",
       "      <td>0.045469</td>\n",
       "      <td>0.075015</td>\n",
       "      <td>0.057493</td>\n",
       "      <td>0.023684</td>\n",
       "      <td>0.016060</td>\n",
       "      <td>0.316280</td>\n",
       "      <td>0.077526</td>\n",
       "      <td>0.260739</td>\n",
       "      <td>0.127733</td>\n",
       "      <td>200003</td>\n",
       "    </tr>\n",
       "    <tr>\n",
       "      <th>4</th>\n",
       "      <td>0.048986</td>\n",
       "      <td>0.112766</td>\n",
       "      <td>0.080009</td>\n",
       "      <td>0.027437</td>\n",
       "      <td>0.017367</td>\n",
       "      <td>0.256097</td>\n",
       "      <td>0.075841</td>\n",
       "      <td>0.231500</td>\n",
       "      <td>0.149997</td>\n",
       "      <td>200004</td>\n",
       "    </tr>\n",
       "  </tbody>\n",
       "</table>\n",
       "</div>"
      ],
      "text/plain": [
       "    Class_1   Class_2   Class_3   Class_4   Class_5   Class_6   Class_7  \\\n",
       "0  0.061805  0.382347  0.157190  0.028302  0.014423  0.128287  0.029918   \n",
       "1  0.047472  0.066258  0.052751  0.023224  0.016457  0.245400  0.091056   \n",
       "2  0.022788  0.028629  0.022327  0.010592  0.007482  0.638704  0.040559   \n",
       "3  0.045469  0.075015  0.057493  0.023684  0.016060  0.316280  0.077526   \n",
       "4  0.048986  0.112766  0.080009  0.027437  0.017367  0.256097  0.075841   \n",
       "\n",
       "    Class_8   Class_9      id  \n",
       "0  0.065433  0.132295  200000  \n",
       "1  0.327116  0.130265  200001  \n",
       "2  0.171579  0.057342  200002  \n",
       "3  0.260739  0.127733  200003  \n",
       "4  0.231500  0.149997  200004  "
      ]
     },
     "execution_count": 29,
     "metadata": {},
     "output_type": "execute_result"
    }
   ],
   "source": [
    "predictions_df.head(5)"
   ]
  },
  {
   "cell_type": "code",
   "execution_count": 30,
   "id": "extra-charles",
   "metadata": {
    "execution": {
     "iopub.execute_input": "2021-06-13T13:29:48.663683Z",
     "iopub.status.busy": "2021-06-13T13:29:48.662672Z",
     "iopub.status.idle": "2021-06-13T13:29:48.823024Z",
     "shell.execute_reply": "2021-06-13T13:29:48.823747Z",
     "shell.execute_reply.started": "2021-06-13T13:11:40.288309Z"
    },
    "papermill": {
     "duration": 0.205946,
     "end_time": "2021-06-13T13:29:48.823906",
     "exception": false,
     "start_time": "2021-06-13T13:29:48.617960",
     "status": "completed"
    },
    "tags": []
   },
   "outputs": [
    {
     "data": {
      "text/html": [
       "<style  type=\"text/css\" >\n",
       "#T_6cfd8844_cc4b_11eb_b550_0242ac130202row0_col1{\n",
       "            width:  10em;\n",
       "             height:  80%;\n",
       "            background:  linear-gradient(90deg,#205ff2 12.6%, transparent 12.6%);\n",
       "        }#T_6cfd8844_cc4b_11eb_b550_0242ac130202row0_col2{\n",
       "            background-color:  #ffeee6;\n",
       "            color:  #000000;\n",
       "        }#T_6cfd8844_cc4b_11eb_b550_0242ac130202row0_col5{\n",
       "            background-color:  #6282ea;\n",
       "            color:  #000000;\n",
       "        }#T_6cfd8844_cc4b_11eb_b550_0242ac130202row1_col1{\n",
       "            width:  10em;\n",
       "             height:  80%;\n",
       "            background:  linear-gradient(90deg,#205ff2 44.1%, transparent 44.1%);\n",
       "        }#T_6cfd8844_cc4b_11eb_b550_0242ac130202row1_col2{\n",
       "            background-color:  #dc2924;\n",
       "            color:  #f1f1f1;\n",
       "        }#T_6cfd8844_cc4b_11eb_b550_0242ac130202row1_col5{\n",
       "            background-color:  #94b6ff;\n",
       "            color:  #000000;\n",
       "        }#T_6cfd8844_cc4b_11eb_b550_0242ac130202row2_col1{\n",
       "            width:  10em;\n",
       "             height:  80%;\n",
       "            background:  linear-gradient(90deg,#205ff2 24.6%, transparent 24.6%);\n",
       "        }#T_6cfd8844_cc4b_11eb_b550_0242ac130202row2_col2{\n",
       "            background-color:  #fcaf93;\n",
       "            color:  #000000;\n",
       "        }#T_6cfd8844_cc4b_11eb_b550_0242ac130202row2_col5{\n",
       "            background-color:  #779af7;\n",
       "            color:  #000000;\n",
       "        }#T_6cfd8844_cc4b_11eb_b550_0242ac130202row3_col1{\n",
       "            width:  10em;\n",
       "             height:  80%;\n",
       "            background:  linear-gradient(90deg,#205ff2 3.5%, transparent 3.5%);\n",
       "        }#T_6cfd8844_cc4b_11eb_b550_0242ac130202row3_col2{\n",
       "            background-color:  #fff2eb;\n",
       "            color:  #000000;\n",
       "        }#T_6cfd8844_cc4b_11eb_b550_0242ac130202row3_col5{\n",
       "            background-color:  #455cce;\n",
       "            color:  #f1f1f1;\n",
       "        }#T_6cfd8844_cc4b_11eb_b550_0242ac130202row4_col1{\n",
       "            width:  10em;\n",
       "             height:  80%;\n",
       "        }#T_6cfd8844_cc4b_11eb_b550_0242ac130202row4_col2{\n",
       "            background-color:  #fff5f0;\n",
       "            color:  #000000;\n",
       "        }#T_6cfd8844_cc4b_11eb_b550_0242ac130202row4_col5{\n",
       "            background-color:  #3b4cc0;\n",
       "            color:  #f1f1f1;\n",
       "        }#T_6cfd8844_cc4b_11eb_b550_0242ac130202row5_col1{\n",
       "            width:  10em;\n",
       "             height:  80%;\n",
       "            background:  linear-gradient(90deg,#205ff2 99.2%, transparent 99.2%);\n",
       "        }#T_6cfd8844_cc4b_11eb_b550_0242ac130202row5_col2{\n",
       "            background-color:  #67000d;\n",
       "            color:  #f1f1f1;\n",
       "        }#T_6cfd8844_cc4b_11eb_b550_0242ac130202row5_col5{\n",
       "            background-color:  #dd5f4b;\n",
       "            color:  #000000;\n",
       "        }#T_6cfd8844_cc4b_11eb_b550_0242ac130202row6_col1{\n",
       "            width:  10em;\n",
       "             height:  80%;\n",
       "            background:  linear-gradient(90deg,#205ff2 24.3%, transparent 24.3%);\n",
       "        }#T_6cfd8844_cc4b_11eb_b550_0242ac130202row6_col2{\n",
       "            background-color:  #fedccd;\n",
       "            color:  #000000;\n",
       "        }#T_6cfd8844_cc4b_11eb_b550_0242ac130202row6_col5{\n",
       "            background-color:  #8caffe;\n",
       "            color:  #000000;\n",
       "        }#T_6cfd8844_cc4b_11eb_b550_0242ac130202row7_col1{\n",
       "            width:  10em;\n",
       "             height:  80%;\n",
       "            background:  linear-gradient(90deg,#205ff2 100.0%, transparent 100.0%);\n",
       "        }#T_6cfd8844_cc4b_11eb_b550_0242ac130202row7_col2{\n",
       "            background-color:  #d82422;\n",
       "            color:  #f1f1f1;\n",
       "        }#T_6cfd8844_cc4b_11eb_b550_0242ac130202row7_col5{\n",
       "            background-color:  #b40426;\n",
       "            color:  #f1f1f1;\n",
       "        }#T_6cfd8844_cc4b_11eb_b550_0242ac130202row8_col1{\n",
       "            width:  10em;\n",
       "             height:  80%;\n",
       "            background:  linear-gradient(90deg,#205ff2 47.2%, transparent 47.2%);\n",
       "        }#T_6cfd8844_cc4b_11eb_b550_0242ac130202row8_col2{\n",
       "            background-color:  #fdc6b0;\n",
       "            color:  #000000;\n",
       "        }#T_6cfd8844_cc4b_11eb_b550_0242ac130202row8_col5{\n",
       "            background-color:  #d5dbe5;\n",
       "            color:  #000000;\n",
       "        }</style><table id=\"T_6cfd8844_cc4b_11eb_b550_0242ac130202\" ><thead>    <tr>        <th class=\"blank level0\" ></th>        <th class=\"col_heading level0 col0\" >count</th>        <th class=\"col_heading level0 col1\" >mean</th>        <th class=\"col_heading level0 col2\" >std</th>        <th class=\"col_heading level0 col3\" >min</th>        <th class=\"col_heading level0 col4\" >25%</th>        <th class=\"col_heading level0 col5\" >50%</th>        <th class=\"col_heading level0 col6\" >75%</th>        <th class=\"col_heading level0 col7\" >max</th>    </tr></thead><tbody>\n",
       "                <tr>\n",
       "                        <th id=\"T_6cfd8844_cc4b_11eb_b550_0242ac130202level0_row0\" class=\"row_heading level0 row0\" >Class_1</th>\n",
       "                        <td id=\"T_6cfd8844_cc4b_11eb_b550_0242ac130202row0_col0\" class=\"data row0 col0\" >100000.000000</td>\n",
       "                        <td id=\"T_6cfd8844_cc4b_11eb_b550_0242ac130202row0_col1\" class=\"data row0 col1\" >0.046034</td>\n",
       "                        <td id=\"T_6cfd8844_cc4b_11eb_b550_0242ac130202row0_col2\" class=\"data row0 col2\" >0.009351</td>\n",
       "                        <td id=\"T_6cfd8844_cc4b_11eb_b550_0242ac130202row0_col3\" class=\"data row0 col3\" >0.011760</td>\n",
       "                        <td id=\"T_6cfd8844_cc4b_11eb_b550_0242ac130202row0_col4\" class=\"data row0 col4\" >0.042336</td>\n",
       "                        <td id=\"T_6cfd8844_cc4b_11eb_b550_0242ac130202row0_col5\" class=\"data row0 col5\" >0.048343</td>\n",
       "                        <td id=\"T_6cfd8844_cc4b_11eb_b550_0242ac130202row0_col6\" class=\"data row0 col6\" >0.051386</td>\n",
       "                        <td id=\"T_6cfd8844_cc4b_11eb_b550_0242ac130202row0_col7\" class=\"data row0 col7\" >0.064148</td>\n",
       "            </tr>\n",
       "            <tr>\n",
       "                        <th id=\"T_6cfd8844_cc4b_11eb_b550_0242ac130202level0_row1\" class=\"row_heading level0 row1\" >Class_2</th>\n",
       "                        <td id=\"T_6cfd8844_cc4b_11eb_b550_0242ac130202row1_col0\" class=\"data row1 col0\" >100000.000000</td>\n",
       "                        <td id=\"T_6cfd8844_cc4b_11eb_b550_0242ac130202row1_col1\" class=\"data row1 col1\" >0.122205</td>\n",
       "                        <td id=\"T_6cfd8844_cc4b_11eb_b550_0242ac130202row1_col2\" class=\"data row1 col2\" >0.102250</td>\n",
       "                        <td id=\"T_6cfd8844_cc4b_11eb_b550_0242ac130202row1_col3\" class=\"data row1 col3\" >0.017901</td>\n",
       "                        <td id=\"T_6cfd8844_cc4b_11eb_b550_0242ac130202row1_col4\" class=\"data row1 col4\" >0.040777</td>\n",
       "                        <td id=\"T_6cfd8844_cc4b_11eb_b550_0242ac130202row1_col5\" class=\"data row1 col5\" >0.084781</td>\n",
       "                        <td id=\"T_6cfd8844_cc4b_11eb_b550_0242ac130202row1_col6\" class=\"data row1 col6\" >0.172868</td>\n",
       "                        <td id=\"T_6cfd8844_cc4b_11eb_b550_0242ac130202row1_col7\" class=\"data row1 col7\" >0.420194</td>\n",
       "            </tr>\n",
       "            <tr>\n",
       "                        <th id=\"T_6cfd8844_cc4b_11eb_b550_0242ac130202level0_row2\" class=\"row_heading level0 row2\" >Class_3</th>\n",
       "                        <td id=\"T_6cfd8844_cc4b_11eb_b550_0242ac130202row2_col0\" class=\"data row2 col0\" >100000.000000</td>\n",
       "                        <td id=\"T_6cfd8844_cc4b_11eb_b550_0242ac130202row2_col1\" class=\"data row2 col1\" >0.075051</td>\n",
       "                        <td id=\"T_6cfd8844_cc4b_11eb_b550_0242ac130202row2_col2\" class=\"data row2 col2\" >0.044683</td>\n",
       "                        <td id=\"T_6cfd8844_cc4b_11eb_b550_0242ac130202row2_col3\" class=\"data row2 col3\" >0.012938</td>\n",
       "                        <td id=\"T_6cfd8844_cc4b_11eb_b550_0242ac130202row2_col4\" class=\"data row2 col4\" >0.035569</td>\n",
       "                        <td id=\"T_6cfd8844_cc4b_11eb_b550_0242ac130202row2_col5\" class=\"data row2 col5\" >0.063697</td>\n",
       "                        <td id=\"T_6cfd8844_cc4b_11eb_b550_0242ac130202row2_col6\" class=\"data row2 col6\" >0.109285</td>\n",
       "                        <td id=\"T_6cfd8844_cc4b_11eb_b550_0242ac130202row2_col7\" class=\"data row2 col7\" >0.170285</td>\n",
       "            </tr>\n",
       "            <tr>\n",
       "                        <th id=\"T_6cfd8844_cc4b_11eb_b550_0242ac130202level0_row3\" class=\"row_heading level0 row3\" >Class_4</th>\n",
       "                        <td id=\"T_6cfd8844_cc4b_11eb_b550_0242ac130202row3_col0\" class=\"data row3 col0\" >100000.000000</td>\n",
       "                        <td id=\"T_6cfd8844_cc4b_11eb_b550_0242ac130202row3_col1\" class=\"data row3 col1\" >0.023871</td>\n",
       "                        <td id=\"T_6cfd8844_cc4b_11eb_b550_0242ac130202row3_col2\" class=\"data row3 col2\" >0.006390</td>\n",
       "                        <td id=\"T_6cfd8844_cc4b_11eb_b550_0242ac130202row3_col3\" class=\"data row3 col3\" >0.006112</td>\n",
       "                        <td id=\"T_6cfd8844_cc4b_11eb_b550_0242ac130202row3_col4\" class=\"data row3 col4\" >0.019240</td>\n",
       "                        <td id=\"T_6cfd8844_cc4b_11eb_b550_0242ac130202row3_col5\" class=\"data row3 col5\" >0.025639</td>\n",
       "                        <td id=\"T_6cfd8844_cc4b_11eb_b550_0242ac130202row3_col6\" class=\"data row3 col6\" >0.029269</td>\n",
       "                        <td id=\"T_6cfd8844_cc4b_11eb_b550_0242ac130202row3_col7\" class=\"data row3 col7\" >0.032515</td>\n",
       "            </tr>\n",
       "            <tr>\n",
       "                        <th id=\"T_6cfd8844_cc4b_11eb_b550_0242ac130202level0_row4\" class=\"row_heading level0 row4\" >Class_5</th>\n",
       "                        <td id=\"T_6cfd8844_cc4b_11eb_b550_0242ac130202row4_col0\" class=\"data row4 col0\" >100000.000000</td>\n",
       "                        <td id=\"T_6cfd8844_cc4b_11eb_b550_0242ac130202row4_col1\" class=\"data row4 col1\" >0.015437</td>\n",
       "                        <td id=\"T_6cfd8844_cc4b_11eb_b550_0242ac130202row4_col2\" class=\"data row4 col2\" >0.003051</td>\n",
       "                        <td id=\"T_6cfd8844_cc4b_11eb_b550_0242ac130202row4_col3\" class=\"data row4 col3\" >0.003943</td>\n",
       "                        <td id=\"T_6cfd8844_cc4b_11eb_b550_0242ac130202row4_col4\" class=\"data row4 col4\" >0.014426</td>\n",
       "                        <td id=\"T_6cfd8844_cc4b_11eb_b550_0242ac130202row4_col5\" class=\"data row4 col5\" >0.016289</td>\n",
       "                        <td id=\"T_6cfd8844_cc4b_11eb_b550_0242ac130202row4_col6\" class=\"data row4 col6\" >0.017420</td>\n",
       "                        <td id=\"T_6cfd8844_cc4b_11eb_b550_0242ac130202row4_col7\" class=\"data row4 col7\" >0.024009</td>\n",
       "            </tr>\n",
       "            <tr>\n",
       "                        <th id=\"T_6cfd8844_cc4b_11eb_b550_0242ac130202level0_row5\" class=\"row_heading level0 row5\" >Class_6</th>\n",
       "                        <td id=\"T_6cfd8844_cc4b_11eb_b550_0242ac130202row5_col0\" class=\"data row5 col0\" >100000.000000</td>\n",
       "                        <td id=\"T_6cfd8844_cc4b_11eb_b550_0242ac130202row5_col1\" class=\"data row5 col1\" >0.255712</td>\n",
       "                        <td id=\"T_6cfd8844_cc4b_11eb_b550_0242ac130202row5_col2\" class=\"data row5 col2\" >0.147322</td>\n",
       "                        <td id=\"T_6cfd8844_cc4b_11eb_b550_0242ac130202row5_col3\" class=\"data row5 col3\" >0.044076</td>\n",
       "                        <td id=\"T_6cfd8844_cc4b_11eb_b550_0242ac130202row5_col4\" class=\"data row5 col4\" >0.157734</td>\n",
       "                        <td id=\"T_6cfd8844_cc4b_11eb_b550_0242ac130202row5_col5\" class=\"data row5 col5\" >0.237901</td>\n",
       "                        <td id=\"T_6cfd8844_cc4b_11eb_b550_0242ac130202row5_col6\" class=\"data row5 col6\" >0.306176</td>\n",
       "                        <td id=\"T_6cfd8844_cc4b_11eb_b550_0242ac130202row5_col7\" class=\"data row5 col7\" >0.822735</td>\n",
       "            </tr>\n",
       "            <tr>\n",
       "                        <th id=\"T_6cfd8844_cc4b_11eb_b550_0242ac130202level0_row6\" class=\"row_heading level0 row6\" >Class_7</th>\n",
       "                        <td id=\"T_6cfd8844_cc4b_11eb_b550_0242ac130202row6_col0\" class=\"data row6 col0\" >100000.000000</td>\n",
       "                        <td id=\"T_6cfd8844_cc4b_11eb_b550_0242ac130202row6_col1\" class=\"data row6 col1\" >0.074312</td>\n",
       "                        <td id=\"T_6cfd8844_cc4b_11eb_b550_0242ac130202row6_col2\" class=\"data row6 col2\" >0.023110</td>\n",
       "                        <td id=\"T_6cfd8844_cc4b_11eb_b550_0242ac130202row6_col3\" class=\"data row6 col3\" >0.018563</td>\n",
       "                        <td id=\"T_6cfd8844_cc4b_11eb_b550_0242ac130202row6_col4\" class=\"data row6 col4\" >0.058004</td>\n",
       "                        <td id=\"T_6cfd8844_cc4b_11eb_b550_0242ac130202row6_col5\" class=\"data row6 col5\" >0.078812</td>\n",
       "                        <td id=\"T_6cfd8844_cc4b_11eb_b550_0242ac130202row6_col6\" class=\"data row6 col6\" >0.093038</td>\n",
       "                        <td id=\"T_6cfd8844_cc4b_11eb_b550_0242ac130202row6_col7\" class=\"data row6 col7\" >0.115109</td>\n",
       "            </tr>\n",
       "            <tr>\n",
       "                        <th id=\"T_6cfd8844_cc4b_11eb_b550_0242ac130202level0_row7\" class=\"row_heading level0 row7\" >Class_8</th>\n",
       "                        <td id=\"T_6cfd8844_cc4b_11eb_b550_0242ac130202row7_col0\" class=\"data row7 col0\" >100000.000000</td>\n",
       "                        <td id=\"T_6cfd8844_cc4b_11eb_b550_0242ac130202row7_col1\" class=\"data row7 col1\" >0.257653</td>\n",
       "                        <td id=\"T_6cfd8844_cc4b_11eb_b550_0242ac130202row7_col2\" class=\"data row7 col2\" >0.104958</td>\n",
       "                        <td id=\"T_6cfd8844_cc4b_11eb_b550_0242ac130202row7_col3\" class=\"data row7 col3\" >0.058365</td>\n",
       "                        <td id=\"T_6cfd8844_cc4b_11eb_b550_0242ac130202row7_col4\" class=\"data row7 col4\" >0.168839</td>\n",
       "                        <td id=\"T_6cfd8844_cc4b_11eb_b550_0242ac130202row7_col5\" class=\"data row7 col5\" >0.268709</td>\n",
       "                        <td id=\"T_6cfd8844_cc4b_11eb_b550_0242ac130202row7_col6\" class=\"data row7 col6\" >0.352722</td>\n",
       "                        <td id=\"T_6cfd8844_cc4b_11eb_b550_0242ac130202row7_col7\" class=\"data row7 col7\" >0.449016</td>\n",
       "            </tr>\n",
       "            <tr>\n",
       "                        <th id=\"T_6cfd8844_cc4b_11eb_b550_0242ac130202level0_row8\" class=\"row_heading level0 row8\" >Class_9</th>\n",
       "                        <td id=\"T_6cfd8844_cc4b_11eb_b550_0242ac130202row8_col0\" class=\"data row8 col0\" >100000.000000</td>\n",
       "                        <td id=\"T_6cfd8844_cc4b_11eb_b550_0242ac130202row8_col1\" class=\"data row8 col1\" >0.129725</td>\n",
       "                        <td id=\"T_6cfd8844_cc4b_11eb_b550_0242ac130202row8_col2\" class=\"data row8 col2\" >0.033498</td>\n",
       "                        <td id=\"T_6cfd8844_cc4b_11eb_b550_0242ac130202row8_col3\" class=\"data row8 col3\" >0.028144</td>\n",
       "                        <td id=\"T_6cfd8844_cc4b_11eb_b550_0242ac130202row8_col4\" class=\"data row8 col4\" >0.107179</td>\n",
       "                        <td id=\"T_6cfd8844_cc4b_11eb_b550_0242ac130202row8_col5\" class=\"data row8 col5\" >0.135174</td>\n",
       "                        <td id=\"T_6cfd8844_cc4b_11eb_b550_0242ac130202row8_col6\" class=\"data row8 col6\" >0.156599</td>\n",
       "                        <td id=\"T_6cfd8844_cc4b_11eb_b550_0242ac130202row8_col7\" class=\"data row8 col7\" >0.183208</td>\n",
       "            </tr>\n",
       "    </tbody></table>"
      ],
      "text/plain": [
       "<pandas.io.formats.style.Styler at 0x7f95e9aaf690>"
      ]
     },
     "execution_count": 30,
     "metadata": {},
     "output_type": "execute_result"
    }
   ],
   "source": [
    "predictions_df.drop(\"id\", axis=1).describe().T.style.bar(subset=['mean'], color='#205ff2')\\\n",
    "                            .background_gradient(subset=['std'], cmap='Reds')\\\n",
    "                            .background_gradient(subset=['50%'], cmap='coolwarm')"
   ]
  },
  {
   "cell_type": "code",
   "execution_count": 31,
   "id": "southern-accuracy",
   "metadata": {
    "execution": {
     "iopub.execute_input": "2021-06-13T13:29:48.903180Z",
     "iopub.status.busy": "2021-06-13T13:29:48.902414Z",
     "iopub.status.idle": "2021-06-13T13:29:50.484633Z",
     "shell.execute_reply": "2021-06-13T13:29:50.484118Z",
     "shell.execute_reply.started": "2021-06-13T13:11:43.563073Z"
    },
    "papermill": {
     "duration": 1.623296,
     "end_time": "2021-06-13T13:29:50.484780",
     "exception": false,
     "start_time": "2021-06-13T13:29:48.861484",
     "status": "completed"
    },
    "tags": []
   },
   "outputs": [],
   "source": [
    "predictions_df.to_csv(\"submission.csv\", index = False)"
   ]
  },
  {
   "cell_type": "code",
   "execution_count": 32,
   "id": "crazy-converter",
   "metadata": {
    "execution": {
     "iopub.execute_input": "2021-06-13T13:29:50.575649Z",
     "iopub.status.busy": "2021-06-13T13:29:50.574774Z",
     "iopub.status.idle": "2021-06-13T13:29:50.579194Z",
     "shell.execute_reply": "2021-06-13T13:29:50.578785Z",
     "shell.execute_reply.started": "2021-06-13T13:11:47.297274Z"
    },
    "papermill": {
     "duration": 0.057118,
     "end_time": "2021-06-13T13:29:50.579296",
     "exception": false,
     "start_time": "2021-06-13T13:29:50.522178",
     "status": "completed"
    },
    "tags": []
   },
   "outputs": [
    {
     "data": {
      "text/html": [
       "<div>\n",
       "<style scoped>\n",
       "    .dataframe tbody tr th:only-of-type {\n",
       "        vertical-align: middle;\n",
       "    }\n",
       "\n",
       "    .dataframe tbody tr th {\n",
       "        vertical-align: top;\n",
       "    }\n",
       "\n",
       "    .dataframe thead th {\n",
       "        text-align: right;\n",
       "    }\n",
       "</style>\n",
       "<table border=\"1\" class=\"dataframe\">\n",
       "  <thead>\n",
       "    <tr style=\"text-align: right;\">\n",
       "      <th></th>\n",
       "      <th>Class_1</th>\n",
       "      <th>Class_2</th>\n",
       "      <th>Class_3</th>\n",
       "      <th>Class_4</th>\n",
       "      <th>Class_5</th>\n",
       "      <th>Class_6</th>\n",
       "      <th>Class_7</th>\n",
       "      <th>Class_8</th>\n",
       "      <th>Class_9</th>\n",
       "      <th>id</th>\n",
       "    </tr>\n",
       "  </thead>\n",
       "  <tbody>\n",
       "    <tr>\n",
       "      <th>0</th>\n",
       "      <td>0.061805</td>\n",
       "      <td>0.382347</td>\n",
       "      <td>0.157190</td>\n",
       "      <td>0.028302</td>\n",
       "      <td>0.014423</td>\n",
       "      <td>0.128287</td>\n",
       "      <td>0.029918</td>\n",
       "      <td>0.065433</td>\n",
       "      <td>0.132295</td>\n",
       "      <td>200000</td>\n",
       "    </tr>\n",
       "    <tr>\n",
       "      <th>1</th>\n",
       "      <td>0.047472</td>\n",
       "      <td>0.066258</td>\n",
       "      <td>0.052751</td>\n",
       "      <td>0.023224</td>\n",
       "      <td>0.016457</td>\n",
       "      <td>0.245400</td>\n",
       "      <td>0.091056</td>\n",
       "      <td>0.327116</td>\n",
       "      <td>0.130265</td>\n",
       "      <td>200001</td>\n",
       "    </tr>\n",
       "    <tr>\n",
       "      <th>2</th>\n",
       "      <td>0.022788</td>\n",
       "      <td>0.028629</td>\n",
       "      <td>0.022327</td>\n",
       "      <td>0.010592</td>\n",
       "      <td>0.007482</td>\n",
       "      <td>0.638704</td>\n",
       "      <td>0.040559</td>\n",
       "      <td>0.171579</td>\n",
       "      <td>0.057342</td>\n",
       "      <td>200002</td>\n",
       "    </tr>\n",
       "    <tr>\n",
       "      <th>3</th>\n",
       "      <td>0.045469</td>\n",
       "      <td>0.075015</td>\n",
       "      <td>0.057493</td>\n",
       "      <td>0.023684</td>\n",
       "      <td>0.016060</td>\n",
       "      <td>0.316280</td>\n",
       "      <td>0.077526</td>\n",
       "      <td>0.260739</td>\n",
       "      <td>0.127733</td>\n",
       "      <td>200003</td>\n",
       "    </tr>\n",
       "    <tr>\n",
       "      <th>4</th>\n",
       "      <td>0.048986</td>\n",
       "      <td>0.112766</td>\n",
       "      <td>0.080009</td>\n",
       "      <td>0.027437</td>\n",
       "      <td>0.017367</td>\n",
       "      <td>0.256097</td>\n",
       "      <td>0.075841</td>\n",
       "      <td>0.231500</td>\n",
       "      <td>0.149997</td>\n",
       "      <td>200004</td>\n",
       "    </tr>\n",
       "    <tr>\n",
       "      <th>...</th>\n",
       "      <td>...</td>\n",
       "      <td>...</td>\n",
       "      <td>...</td>\n",
       "      <td>...</td>\n",
       "      <td>...</td>\n",
       "      <td>...</td>\n",
       "      <td>...</td>\n",
       "      <td>...</td>\n",
       "      <td>...</td>\n",
       "      <td>...</td>\n",
       "    </tr>\n",
       "    <tr>\n",
       "      <th>99995</th>\n",
       "      <td>0.060589</td>\n",
       "      <td>0.373220</td>\n",
       "      <td>0.161780</td>\n",
       "      <td>0.029622</td>\n",
       "      <td>0.015159</td>\n",
       "      <td>0.104258</td>\n",
       "      <td>0.034952</td>\n",
       "      <td>0.078507</td>\n",
       "      <td>0.141913</td>\n",
       "      <td>299995</td>\n",
       "    </tr>\n",
       "    <tr>\n",
       "      <th>99996</th>\n",
       "      <td>0.050895</td>\n",
       "      <td>0.201873</td>\n",
       "      <td>0.120443</td>\n",
       "      <td>0.031011</td>\n",
       "      <td>0.017003</td>\n",
       "      <td>0.204267</td>\n",
       "      <td>0.057390</td>\n",
       "      <td>0.152470</td>\n",
       "      <td>0.164648</td>\n",
       "      <td>299996</td>\n",
       "    </tr>\n",
       "    <tr>\n",
       "      <th>99997</th>\n",
       "      <td>0.055442</td>\n",
       "      <td>0.299334</td>\n",
       "      <td>0.148768</td>\n",
       "      <td>0.031348</td>\n",
       "      <td>0.016225</td>\n",
       "      <td>0.146336</td>\n",
       "      <td>0.042906</td>\n",
       "      <td>0.103604</td>\n",
       "      <td>0.156037</td>\n",
       "      <td>299997</td>\n",
       "    </tr>\n",
       "    <tr>\n",
       "      <th>99998</th>\n",
       "      <td>0.031817</td>\n",
       "      <td>0.028574</td>\n",
       "      <td>0.025231</td>\n",
       "      <td>0.013652</td>\n",
       "      <td>0.010613</td>\n",
       "      <td>0.448477</td>\n",
       "      <td>0.067901</td>\n",
       "      <td>0.294497</td>\n",
       "      <td>0.079237</td>\n",
       "      <td>299998</td>\n",
       "    </tr>\n",
       "    <tr>\n",
       "      <th>99999</th>\n",
       "      <td>0.047362</td>\n",
       "      <td>0.110600</td>\n",
       "      <td>0.077551</td>\n",
       "      <td>0.026554</td>\n",
       "      <td>0.016620</td>\n",
       "      <td>0.289401</td>\n",
       "      <td>0.070687</td>\n",
       "      <td>0.217385</td>\n",
       "      <td>0.143839</td>\n",
       "      <td>299999</td>\n",
       "    </tr>\n",
       "  </tbody>\n",
       "</table>\n",
       "<p>100000 rows × 10 columns</p>\n",
       "</div>"
      ],
      "text/plain": [
       "        Class_1   Class_2   Class_3   Class_4   Class_5   Class_6   Class_7  \\\n",
       "0      0.061805  0.382347  0.157190  0.028302  0.014423  0.128287  0.029918   \n",
       "1      0.047472  0.066258  0.052751  0.023224  0.016457  0.245400  0.091056   \n",
       "2      0.022788  0.028629  0.022327  0.010592  0.007482  0.638704  0.040559   \n",
       "3      0.045469  0.075015  0.057493  0.023684  0.016060  0.316280  0.077526   \n",
       "4      0.048986  0.112766  0.080009  0.027437  0.017367  0.256097  0.075841   \n",
       "...         ...       ...       ...       ...       ...       ...       ...   \n",
       "99995  0.060589  0.373220  0.161780  0.029622  0.015159  0.104258  0.034952   \n",
       "99996  0.050895  0.201873  0.120443  0.031011  0.017003  0.204267  0.057390   \n",
       "99997  0.055442  0.299334  0.148768  0.031348  0.016225  0.146336  0.042906   \n",
       "99998  0.031817  0.028574  0.025231  0.013652  0.010613  0.448477  0.067901   \n",
       "99999  0.047362  0.110600  0.077551  0.026554  0.016620  0.289401  0.070687   \n",
       "\n",
       "        Class_8   Class_9      id  \n",
       "0      0.065433  0.132295  200000  \n",
       "1      0.327116  0.130265  200001  \n",
       "2      0.171579  0.057342  200002  \n",
       "3      0.260739  0.127733  200003  \n",
       "4      0.231500  0.149997  200004  \n",
       "...         ...       ...     ...  \n",
       "99995  0.078507  0.141913  299995  \n",
       "99996  0.152470  0.164648  299996  \n",
       "99997  0.103604  0.156037  299997  \n",
       "99998  0.294497  0.079237  299998  \n",
       "99999  0.217385  0.143839  299999  \n",
       "\n",
       "[100000 rows x 10 columns]"
      ]
     },
     "execution_count": 32,
     "metadata": {},
     "output_type": "execute_result"
    }
   ],
   "source": [
    "predictions_df"
   ]
  },
  {
   "cell_type": "code",
   "execution_count": null,
   "id": "bigger-ladder",
   "metadata": {
    "papermill": {
     "duration": 0.037973,
     "end_time": "2021-06-13T13:29:50.655818",
     "exception": false,
     "start_time": "2021-06-13T13:29:50.617845",
     "status": "completed"
    },
    "tags": []
   },
   "outputs": [],
   "source": []
  }
 ],
 "metadata": {
  "kernelspec": {
   "display_name": "Python 3",
   "language": "python",
   "name": "python3"
  },
  "language_info": {
   "codemirror_mode": {
    "name": "ipython",
    "version": 3
   },
   "file_extension": ".py",
   "mimetype": "text/x-python",
   "name": "python",
   "nbconvert_exporter": "python",
   "pygments_lexer": "ipython3",
   "version": "3.7.10"
  },
  "papermill": {
   "default_parameters": {},
   "duration": 1054.996388,
   "end_time": "2021-06-13T13:29:52.095019",
   "environment_variables": {},
   "exception": null,
   "input_path": "__notebook__.ipynb",
   "output_path": "__notebook__.ipynb",
   "parameters": {},
   "start_time": "2021-06-13T13:12:17.098631",
   "version": "2.3.3"
  },
  "widgets": {
   "application/vnd.jupyter.widget-state+json": {
    "state": {
     "17d162b80f8942f5be973140806e7339": {
      "model_module": "@jupyter-widgets/controls",
      "model_module_version": "1.5.0",
      "model_name": "DescriptionStyleModel",
      "state": {
       "_model_module": "@jupyter-widgets/controls",
       "_model_module_version": "1.5.0",
       "_model_name": "DescriptionStyleModel",
       "_view_count": null,
       "_view_module": "@jupyter-widgets/base",
       "_view_module_version": "1.2.0",
       "_view_name": "StyleView",
       "description_width": ""
      }
     },
     "28352e935c8849738b6a4a0a1440f553": {
      "model_module": "@jupyter-widgets/controls",
      "model_module_version": "1.5.0",
      "model_name": "DescriptionStyleModel",
      "state": {
       "_model_module": "@jupyter-widgets/controls",
       "_model_module_version": "1.5.0",
       "_model_name": "DescriptionStyleModel",
       "_view_count": null,
       "_view_module": "@jupyter-widgets/base",
       "_view_module_version": "1.2.0",
       "_view_name": "StyleView",
       "description_width": ""
      }
     },
     "290a8feab10b42f8b4fefe3f1ec8b754": {
      "model_module": "@jupyter-widgets/base",
      "model_module_version": "1.2.0",
      "model_name": "LayoutModel",
      "state": {
       "_model_module": "@jupyter-widgets/base",
       "_model_module_version": "1.2.0",
       "_model_name": "LayoutModel",
       "_view_count": null,
       "_view_module": "@jupyter-widgets/base",
       "_view_module_version": "1.2.0",
       "_view_name": "LayoutView",
       "align_content": null,
       "align_items": null,
       "align_self": null,
       "border": null,
       "bottom": null,
       "display": null,
       "flex": null,
       "flex_flow": null,
       "grid_area": null,
       "grid_auto_columns": null,
       "grid_auto_flow": null,
       "grid_auto_rows": null,
       "grid_column": null,
       "grid_gap": null,
       "grid_row": null,
       "grid_template_areas": null,
       "grid_template_columns": null,
       "grid_template_rows": null,
       "height": null,
       "justify_content": null,
       "justify_items": null,
       "left": null,
       "margin": null,
       "max_height": null,
       "max_width": null,
       "min_height": null,
       "min_width": null,
       "object_fit": null,
       "object_position": null,
       "order": null,
       "overflow": null,
       "overflow_x": null,
       "overflow_y": null,
       "padding": null,
       "right": null,
       "top": null,
       "visibility": null,
       "width": null
      }
     },
     "4c91bc4ffd1f47fabaf647721d4b154c": {
      "model_module": "@jupyter-widgets/base",
      "model_module_version": "1.2.0",
      "model_name": "LayoutModel",
      "state": {
       "_model_module": "@jupyter-widgets/base",
       "_model_module_version": "1.2.0",
       "_model_name": "LayoutModel",
       "_view_count": null,
       "_view_module": "@jupyter-widgets/base",
       "_view_module_version": "1.2.0",
       "_view_name": "LayoutView",
       "align_content": null,
       "align_items": null,
       "align_self": null,
       "border": null,
       "bottom": null,
       "display": null,
       "flex": null,
       "flex_flow": null,
       "grid_area": null,
       "grid_auto_columns": null,
       "grid_auto_flow": null,
       "grid_auto_rows": null,
       "grid_column": null,
       "grid_gap": null,
       "grid_row": null,
       "grid_template_areas": null,
       "grid_template_columns": null,
       "grid_template_rows": null,
       "height": null,
       "justify_content": null,
       "justify_items": null,
       "left": null,
       "margin": null,
       "max_height": null,
       "max_width": null,
       "min_height": null,
       "min_width": null,
       "object_fit": null,
       "object_position": null,
       "order": null,
       "overflow": null,
       "overflow_x": null,
       "overflow_y": null,
       "padding": null,
       "right": null,
       "top": null,
       "visibility": null,
       "width": null
      }
     },
     "597d1eb4b8e84fe59e08129da00f57a1": {
      "model_module": "@jupyter-widgets/base",
      "model_module_version": "1.2.0",
      "model_name": "LayoutModel",
      "state": {
       "_model_module": "@jupyter-widgets/base",
       "_model_module_version": "1.2.0",
       "_model_name": "LayoutModel",
       "_view_count": null,
       "_view_module": "@jupyter-widgets/base",
       "_view_module_version": "1.2.0",
       "_view_name": "LayoutView",
       "align_content": null,
       "align_items": null,
       "align_self": null,
       "border": null,
       "bottom": null,
       "display": null,
       "flex": null,
       "flex_flow": null,
       "grid_area": null,
       "grid_auto_columns": null,
       "grid_auto_flow": null,
       "grid_auto_rows": null,
       "grid_column": null,
       "grid_gap": null,
       "grid_row": null,
       "grid_template_areas": null,
       "grid_template_columns": null,
       "grid_template_rows": null,
       "height": null,
       "justify_content": null,
       "justify_items": null,
       "left": null,
       "margin": null,
       "max_height": null,
       "max_width": null,
       "min_height": null,
       "min_width": null,
       "object_fit": null,
       "object_position": null,
       "order": null,
       "overflow": null,
       "overflow_x": null,
       "overflow_y": null,
       "padding": null,
       "right": null,
       "top": null,
       "visibility": null,
       "width": null
      }
     },
     "6238fa672c834dc6b6d2260442a4b4ce": {
      "model_module": "@jupyter-widgets/controls",
      "model_module_version": "1.5.0",
      "model_name": "ProgressStyleModel",
      "state": {
       "_model_module": "@jupyter-widgets/controls",
       "_model_module_version": "1.5.0",
       "_model_name": "ProgressStyleModel",
       "_view_count": null,
       "_view_module": "@jupyter-widgets/base",
       "_view_module_version": "1.2.0",
       "_view_name": "StyleView",
       "bar_color": null,
       "description_width": ""
      }
     },
     "67744e94ddad448ab3fe933cea00637f": {
      "model_module": "@jupyter-widgets/controls",
      "model_module_version": "1.5.0",
      "model_name": "HTMLModel",
      "state": {
       "_dom_classes": [],
       "_model_module": "@jupyter-widgets/controls",
       "_model_module_version": "1.5.0",
       "_model_name": "HTMLModel",
       "_view_count": null,
       "_view_module": "@jupyter-widgets/controls",
       "_view_module_version": "1.5.0",
       "_view_name": "HTMLView",
       "description": "",
       "description_tooltip": null,
       "layout": "IPY_MODEL_4c91bc4ffd1f47fabaf647721d4b154c",
       "placeholder": "​",
       "style": "IPY_MODEL_17d162b80f8942f5be973140806e7339",
       "value": " 34%"
      }
     },
     "8a4bca04c6fa4d4090a182c37b2190fd": {
      "model_module": "@jupyter-widgets/controls",
      "model_module_version": "1.5.0",
      "model_name": "HBoxModel",
      "state": {
       "_dom_classes": [],
       "_model_module": "@jupyter-widgets/controls",
       "_model_module_version": "1.5.0",
       "_model_name": "HBoxModel",
       "_view_count": null,
       "_view_module": "@jupyter-widgets/controls",
       "_view_module_version": "1.5.0",
       "_view_name": "HBoxView",
       "box_style": "",
       "children": [
        "IPY_MODEL_67744e94ddad448ab3fe933cea00637f",
        "IPY_MODEL_f329b1db98cf41f3b5ed178fdb263841",
        "IPY_MODEL_fbf762bacbce4748adc7d9c030eff182"
       ],
       "layout": "IPY_MODEL_c9949d52ec2a497694a9d466d17b525a"
      }
     },
     "c9949d52ec2a497694a9d466d17b525a": {
      "model_module": "@jupyter-widgets/base",
      "model_module_version": "1.2.0",
      "model_name": "LayoutModel",
      "state": {
       "_model_module": "@jupyter-widgets/base",
       "_model_module_version": "1.2.0",
       "_model_name": "LayoutModel",
       "_view_count": null,
       "_view_module": "@jupyter-widgets/base",
       "_view_module_version": "1.2.0",
       "_view_name": "LayoutView",
       "align_content": null,
       "align_items": null,
       "align_self": null,
       "border": null,
       "bottom": null,
       "display": null,
       "flex": null,
       "flex_flow": null,
       "grid_area": null,
       "grid_auto_columns": null,
       "grid_auto_flow": null,
       "grid_auto_rows": null,
       "grid_column": null,
       "grid_gap": null,
       "grid_row": null,
       "grid_template_areas": null,
       "grid_template_columns": null,
       "grid_template_rows": null,
       "height": null,
       "justify_content": null,
       "justify_items": null,
       "left": null,
       "margin": null,
       "max_height": null,
       "max_width": null,
       "min_height": null,
       "min_width": null,
       "object_fit": null,
       "object_position": null,
       "order": null,
       "overflow": null,
       "overflow_x": null,
       "overflow_y": null,
       "padding": null,
       "right": null,
       "top": null,
       "visibility": null,
       "width": null
      }
     },
     "f329b1db98cf41f3b5ed178fdb263841": {
      "model_module": "@jupyter-widgets/controls",
      "model_module_version": "1.5.0",
      "model_name": "FloatProgressModel",
      "state": {
       "_dom_classes": [],
       "_model_module": "@jupyter-widgets/controls",
       "_model_module_version": "1.5.0",
       "_model_name": "FloatProgressModel",
       "_view_count": null,
       "_view_module": "@jupyter-widgets/controls",
       "_view_module_version": "1.5.0",
       "_view_name": "ProgressView",
       "bar_style": "danger",
       "description": "",
       "description_tooltip": null,
       "layout": "IPY_MODEL_597d1eb4b8e84fe59e08129da00f57a1",
       "max": 100.0,
       "min": 0.0,
       "orientation": "horizontal",
       "style": "IPY_MODEL_6238fa672c834dc6b6d2260442a4b4ce",
       "value": 34.0
      }
     },
     "fbf762bacbce4748adc7d9c030eff182": {
      "model_module": "@jupyter-widgets/controls",
      "model_module_version": "1.5.0",
      "model_name": "HTMLModel",
      "state": {
       "_dom_classes": [],
       "_model_module": "@jupyter-widgets/controls",
       "_model_module_version": "1.5.0",
       "_model_name": "HTMLModel",
       "_view_count": null,
       "_view_module": "@jupyter-widgets/controls",
       "_view_module_version": "1.5.0",
       "_view_name": "HTMLView",
       "description": "",
       "description_tooltip": null,
       "layout": "IPY_MODEL_290a8feab10b42f8b4fefe3f1ec8b754",
       "placeholder": "​",
       "style": "IPY_MODEL_28352e935c8849738b6a4a0a1440f553",
       "value": " 34/100 [17:06&lt;31:52, 28.98s/it]"
      }
     }
    },
    "version_major": 2,
    "version_minor": 0
   }
  }
 },
 "nbformat": 4,
 "nbformat_minor": 5
}
